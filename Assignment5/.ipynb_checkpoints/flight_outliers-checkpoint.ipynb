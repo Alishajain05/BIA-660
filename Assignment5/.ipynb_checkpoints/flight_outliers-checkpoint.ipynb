{
 "cells": [
  {
   "cell_type": "code",
   "execution_count": 30,
   "metadata": {
    "collapsed": true
   },
   "outputs": [],
   "source": [
    "import pandas as pd\n",
    "import numpy as np\n",
    "from selenium import webdriver\n",
    "from selenium.webdriver.common.desired_capabilities import DesiredCapabilities\n",
    "from bs4 import BeautifulSoup\n",
    "import matplotlib.pyplot as plt\n",
    "%matplotlib inline\n",
    "import time\n",
    "import seaborn as sns\n",
    "import math\n",
    "from scipy.spatial.distance import euclidean, chebyshev, cityblock"
   ]
  },
  {
   "cell_type": "code",
   "execution_count": 31,
   "metadata": {
    "collapsed": true
   },
   "outputs": [],
   "source": [
    "from sklearn.preprocessing import MinMaxScaler, RobustScaler, StandardScaler, MaxAbsScaler"
   ]
  },
  {
   "cell_type": "code",
   "execution_count": 32,
   "metadata": {
    "collapsed": true
   },
   "outputs": [],
   "source": [
    "from sklearn.cluster import DBSCAN\n",
    "from sklearn.preprocessing import StandardScaler"
   ]
  },
  {
   "cell_type": "code",
   "execution_count": 33,
   "metadata": {
    "collapsed": false
   },
   "outputs": [],
   "source": [
    "import unidecode\n",
    "from unidecode import unidecode\n",
    "import requests"
   ]
  },
  {
   "cell_type": "code",
   "execution_count": 34,
   "metadata": {
    "collapsed": true
   },
   "outputs": [],
   "source": [
    "import pandas as pd\n",
    "import datetime\n",
    "%matplotlib inline\n",
    "from dateutil.parser import parse"
   ]
  },
  {
   "cell_type": "code",
   "execution_count": 35,
   "metadata": {
    "collapsed": true
   },
   "outputs": [],
   "source": [
    "# from selenium import webdriver\n",
    "from selenium.webdriver.common.action_chains import ActionChains\n",
    "from selenium.webdriver.common.keys import Keys"
   ]
  },
  {
   "cell_type": "code",
   "execution_count": 36,
   "metadata": {
    "collapsed": false
   },
   "outputs": [],
   "source": [
    "driver = webdriver.Chrome()"
   ]
  },
  {
   "cell_type": "code",
   "execution_count": 37,
   "metadata": {
    "collapsed": true
   },
   "outputs": [],
   "source": [
    "driver.get('https://www.google.com/flights/explore/')"
   ]
  },
  {
   "cell_type": "code",
   "execution_count": 38,
   "metadata": {
    "collapsed": false
   },
   "outputs": [],
   "source": [
    "def scrape_data(start_date, from_place, to_place, city_name):\n",
    "    to_input = driver.find_element_by_xpath('//*[@id=\"root\"]/div[3]/div[3]/div/div[4]/div/div')\n",
    "    to_input.click()\n",
    "    to_action = ActionChains(driver)\n",
    "    to_action.send_keys(to_place)\n",
    "    to_action.send_keys(Keys.ENTER)\n",
    "    to_action.perform()\n",
    "    \n",
    "    from_input = driver.find_element_by_xpath('//*[@id=\"root\"]/div[3]/div[3]/div/div[2]/div/div')\n",
    "    from_input.click()\n",
    "    from_action = ActionChains(driver)\n",
    "    from_action.send_keys(from_place)\n",
    "    from_action.send_keys(Keys.ENTER)\n",
    "    from_action.perform() \n",
    "    \n",
    "    time.sleep(5)\n",
    "    current_url = driver.current_url\n",
    "    split_url = current_url.split('2017')\n",
    "    new_url = split_url[0] + start_date\n",
    "    driver.get(new_url)    \n",
    "    \n",
    "    time.sleep(5)\n",
    "    results = driver.find_elements_by_class_name('LJTSM3-v-c')\n",
    "    \n",
    "\n",
    "    result_names = []\n",
    "    for i in range(len(results)):\n",
    "        result_names.append(results[i].text)\n",
    "\n",
    "    cities = []\n",
    "    for city in result_names:\n",
    "        name = city.split(',')\n",
    "        cities.append(unidecode(name[0]))\n",
    "    \n",
    "    lower_case = [x.lower() for x in cities]\n",
    "    if city_name.lower() in lower_case:\n",
    "        city_index = lower_case.index(city_name.lower())\n",
    "    \n",
    "    time.sleep(2)\n",
    "    \n",
    "    box_class = driver.find_elements_by_class_name(\"LJTSM3-v-m\")\n",
    "    test = box_class[city_index]\n",
    "    bars = test.find_elements_by_class_name('LJTSM3-w-x')\n",
    "\n",
    "    time.sleep(1)\n",
    "\n",
    "    data = []\n",
    "\n",
    "    for bar in bars:\n",
    "        ActionChains(driver).move_to_element(bar).perform()\n",
    "        time.sleep(0.00001)\n",
    "        data.append((test.find_element_by_class_name('LJTSM3-w-k').find_elements_by_tag_name('div')[0].text,\n",
    "           test.find_element_by_class_name('LJTSM3-w-k').find_elements_by_tag_name('div')[1].text))\n",
    "\n",
    "    time.sleep(2)\n",
    "\n",
    "    d = data[0]\n",
    "    clean_data = [(float(d[0].replace('$', '').replace(',', '')), (parse(d[1].split('-')[0].strip()) - datetime.datetime(2017,4,4,0,0)).days)\n",
    "                      for d in data]\n",
    "\n",
    "    time.sleep(3)\n",
    "\n",
    "    df = pd.DataFrame(clean_data, columns=['Price','Start_Date'])\n",
    "    return df\n"
   ]
  },
  {
   "cell_type": "code",
   "execution_count": 39,
   "metadata": {
    "collapsed": false
   },
   "outputs": [],
   "source": [
    "df = scrape_data('2017-04-16','London','India','New Delhi')"
   ]
  },
  {
   "cell_type": "code",
   "execution_count": 239,
   "metadata": {
    "collapsed": true
   },
   "outputs": [
    {
     "data": {
      "text/html": [
       "<div>\n",
       "<table border=\"1\" class=\"dataframe\">\n",
       "  <thead>\n",
       "    <tr style=\"text-align: right;\">\n",
       "      <th></th>\n",
       "      <th>Price</th>\n",
       "      <th>Start_Date</th>\n",
       "    </tr>\n",
       "  </thead>\n",
       "  <tbody>\n",
       "    <tr>\n",
       "      <th>0</th>\n",
       "      <td>914.0</td>\n",
       "      <td>12</td>\n",
       "    </tr>\n",
       "    <tr>\n",
       "      <th>1</th>\n",
       "      <td>926.0</td>\n",
       "      <td>13</td>\n",
       "    </tr>\n",
       "    <tr>\n",
       "      <th>2</th>\n",
       "      <td>769.0</td>\n",
       "      <td>14</td>\n",
       "    </tr>\n",
       "    <tr>\n",
       "      <th>3</th>\n",
       "      <td>806.0</td>\n",
       "      <td>15</td>\n",
       "    </tr>\n",
       "    <tr>\n",
       "      <th>4</th>\n",
       "      <td>691.0</td>\n",
       "      <td>16</td>\n",
       "    </tr>\n",
       "    <tr>\n",
       "      <th>5</th>\n",
       "      <td>699.0</td>\n",
       "      <td>17</td>\n",
       "    </tr>\n",
       "    <tr>\n",
       "      <th>6</th>\n",
       "      <td>706.0</td>\n",
       "      <td>18</td>\n",
       "    </tr>\n",
       "    <tr>\n",
       "      <th>7</th>\n",
       "      <td>666.0</td>\n",
       "      <td>19</td>\n",
       "    </tr>\n",
       "    <tr>\n",
       "      <th>8</th>\n",
       "      <td>666.0</td>\n",
       "      <td>20</td>\n",
       "    </tr>\n",
       "    <tr>\n",
       "      <th>9</th>\n",
       "      <td>690.0</td>\n",
       "      <td>21</td>\n",
       "    </tr>\n",
       "    <tr>\n",
       "      <th>10</th>\n",
       "      <td>599.0</td>\n",
       "      <td>22</td>\n",
       "    </tr>\n",
       "    <tr>\n",
       "      <th>11</th>\n",
       "      <td>534.0</td>\n",
       "      <td>23</td>\n",
       "    </tr>\n",
       "    <tr>\n",
       "      <th>12</th>\n",
       "      <td>531.0</td>\n",
       "      <td>24</td>\n",
       "    </tr>\n",
       "    <tr>\n",
       "      <th>13</th>\n",
       "      <td>522.0</td>\n",
       "      <td>25</td>\n",
       "    </tr>\n",
       "    <tr>\n",
       "      <th>14</th>\n",
       "      <td>516.0</td>\n",
       "      <td>26</td>\n",
       "    </tr>\n",
       "    <tr>\n",
       "      <th>15</th>\n",
       "      <td>516.0</td>\n",
       "      <td>27</td>\n",
       "    </tr>\n",
       "    <tr>\n",
       "      <th>16</th>\n",
       "      <td>516.0</td>\n",
       "      <td>28</td>\n",
       "    </tr>\n",
       "    <tr>\n",
       "      <th>17</th>\n",
       "      <td>514.0</td>\n",
       "      <td>29</td>\n",
       "    </tr>\n",
       "    <tr>\n",
       "      <th>18</th>\n",
       "      <td>514.0</td>\n",
       "      <td>30</td>\n",
       "    </tr>\n",
       "    <tr>\n",
       "      <th>19</th>\n",
       "      <td>522.0</td>\n",
       "      <td>31</td>\n",
       "    </tr>\n",
       "    <tr>\n",
       "      <th>20</th>\n",
       "      <td>522.0</td>\n",
       "      <td>32</td>\n",
       "    </tr>\n",
       "    <tr>\n",
       "      <th>21</th>\n",
       "      <td>516.0</td>\n",
       "      <td>33</td>\n",
       "    </tr>\n",
       "    <tr>\n",
       "      <th>22</th>\n",
       "      <td>516.0</td>\n",
       "      <td>34</td>\n",
       "    </tr>\n",
       "    <tr>\n",
       "      <th>23</th>\n",
       "      <td>524.0</td>\n",
       "      <td>35</td>\n",
       "    </tr>\n",
       "    <tr>\n",
       "      <th>24</th>\n",
       "      <td>514.0</td>\n",
       "      <td>36</td>\n",
       "    </tr>\n",
       "    <tr>\n",
       "      <th>25</th>\n",
       "      <td>514.0</td>\n",
       "      <td>37</td>\n",
       "    </tr>\n",
       "    <tr>\n",
       "      <th>26</th>\n",
       "      <td>522.0</td>\n",
       "      <td>38</td>\n",
       "    </tr>\n",
       "    <tr>\n",
       "      <th>27</th>\n",
       "      <td>522.0</td>\n",
       "      <td>39</td>\n",
       "    </tr>\n",
       "    <tr>\n",
       "      <th>28</th>\n",
       "      <td>514.0</td>\n",
       "      <td>40</td>\n",
       "    </tr>\n",
       "    <tr>\n",
       "      <th>29</th>\n",
       "      <td>514.0</td>\n",
       "      <td>41</td>\n",
       "    </tr>\n",
       "    <tr>\n",
       "      <th>30</th>\n",
       "      <td>498.0</td>\n",
       "      <td>42</td>\n",
       "    </tr>\n",
       "    <tr>\n",
       "      <th>31</th>\n",
       "      <td>473.0</td>\n",
       "      <td>43</td>\n",
       "    </tr>\n",
       "    <tr>\n",
       "      <th>32</th>\n",
       "      <td>473.0</td>\n",
       "      <td>44</td>\n",
       "    </tr>\n",
       "    <tr>\n",
       "      <th>33</th>\n",
       "      <td>498.0</td>\n",
       "      <td>45</td>\n",
       "    </tr>\n",
       "    <tr>\n",
       "      <th>34</th>\n",
       "      <td>498.0</td>\n",
       "      <td>46</td>\n",
       "    </tr>\n",
       "    <tr>\n",
       "      <th>35</th>\n",
       "      <td>498.0</td>\n",
       "      <td>47</td>\n",
       "    </tr>\n",
       "    <tr>\n",
       "      <th>36</th>\n",
       "      <td>498.0</td>\n",
       "      <td>48</td>\n",
       "    </tr>\n",
       "    <tr>\n",
       "      <th>37</th>\n",
       "      <td>498.0</td>\n",
       "      <td>49</td>\n",
       "    </tr>\n",
       "    <tr>\n",
       "      <th>38</th>\n",
       "      <td>498.0</td>\n",
       "      <td>50</td>\n",
       "    </tr>\n",
       "    <tr>\n",
       "      <th>39</th>\n",
       "      <td>473.0</td>\n",
       "      <td>51</td>\n",
       "    </tr>\n",
       "    <tr>\n",
       "      <th>40</th>\n",
       "      <td>498.0</td>\n",
       "      <td>52</td>\n",
       "    </tr>\n",
       "    <tr>\n",
       "      <th>41</th>\n",
       "      <td>498.0</td>\n",
       "      <td>53</td>\n",
       "    </tr>\n",
       "    <tr>\n",
       "      <th>42</th>\n",
       "      <td>498.0</td>\n",
       "      <td>54</td>\n",
       "    </tr>\n",
       "    <tr>\n",
       "      <th>43</th>\n",
       "      <td>473.0</td>\n",
       "      <td>55</td>\n",
       "    </tr>\n",
       "    <tr>\n",
       "      <th>44</th>\n",
       "      <td>516.0</td>\n",
       "      <td>56</td>\n",
       "    </tr>\n",
       "    <tr>\n",
       "      <th>45</th>\n",
       "      <td>516.0</td>\n",
       "      <td>57</td>\n",
       "    </tr>\n",
       "    <tr>\n",
       "      <th>46</th>\n",
       "      <td>473.0</td>\n",
       "      <td>58</td>\n",
       "    </tr>\n",
       "    <tr>\n",
       "      <th>47</th>\n",
       "      <td>498.0</td>\n",
       "      <td>59</td>\n",
       "    </tr>\n",
       "    <tr>\n",
       "      <th>48</th>\n",
       "      <td>498.0</td>\n",
       "      <td>60</td>\n",
       "    </tr>\n",
       "    <tr>\n",
       "      <th>49</th>\n",
       "      <td>498.0</td>\n",
       "      <td>61</td>\n",
       "    </tr>\n",
       "    <tr>\n",
       "      <th>50</th>\n",
       "      <td>473.0</td>\n",
       "      <td>62</td>\n",
       "    </tr>\n",
       "    <tr>\n",
       "      <th>51</th>\n",
       "      <td>498.0</td>\n",
       "      <td>63</td>\n",
       "    </tr>\n",
       "    <tr>\n",
       "      <th>52</th>\n",
       "      <td>473.0</td>\n",
       "      <td>64</td>\n",
       "    </tr>\n",
       "    <tr>\n",
       "      <th>53</th>\n",
       "      <td>473.0</td>\n",
       "      <td>65</td>\n",
       "    </tr>\n",
       "    <tr>\n",
       "      <th>54</th>\n",
       "      <td>498.0</td>\n",
       "      <td>66</td>\n",
       "    </tr>\n",
       "    <tr>\n",
       "      <th>55</th>\n",
       "      <td>498.0</td>\n",
       "      <td>67</td>\n",
       "    </tr>\n",
       "    <tr>\n",
       "      <th>56</th>\n",
       "      <td>498.0</td>\n",
       "      <td>68</td>\n",
       "    </tr>\n",
       "    <tr>\n",
       "      <th>57</th>\n",
       "      <td>473.0</td>\n",
       "      <td>69</td>\n",
       "    </tr>\n",
       "    <tr>\n",
       "      <th>58</th>\n",
       "      <td>498.0</td>\n",
       "      <td>70</td>\n",
       "    </tr>\n",
       "    <tr>\n",
       "      <th>59</th>\n",
       "      <td>473.0</td>\n",
       "      <td>71</td>\n",
       "    </tr>\n",
       "  </tbody>\n",
       "</table>\n",
       "</div>"
      ],
      "text/plain": [
       "    Price  Start_Date\n",
       "0   914.0          12\n",
       "1   926.0          13\n",
       "2   769.0          14\n",
       "3   806.0          15\n",
       "4   691.0          16\n",
       "5   699.0          17\n",
       "6   706.0          18\n",
       "7   666.0          19\n",
       "8   666.0          20\n",
       "9   690.0          21\n",
       "10  599.0          22\n",
       "11  534.0          23\n",
       "12  531.0          24\n",
       "13  522.0          25\n",
       "14  516.0          26\n",
       "15  516.0          27\n",
       "16  516.0          28\n",
       "17  514.0          29\n",
       "18  514.0          30\n",
       "19  522.0          31\n",
       "20  522.0          32\n",
       "21  516.0          33\n",
       "22  516.0          34\n",
       "23  524.0          35\n",
       "24  514.0          36\n",
       "25  514.0          37\n",
       "26  522.0          38\n",
       "27  522.0          39\n",
       "28  514.0          40\n",
       "29  514.0          41\n",
       "30  498.0          42\n",
       "31  473.0          43\n",
       "32  473.0          44\n",
       "33  498.0          45\n",
       "34  498.0          46\n",
       "35  498.0          47\n",
       "36  498.0          48\n",
       "37  498.0          49\n",
       "38  498.0          50\n",
       "39  473.0          51\n",
       "40  498.0          52\n",
       "41  498.0          53\n",
       "42  498.0          54\n",
       "43  473.0          55\n",
       "44  516.0          56\n",
       "45  516.0          57\n",
       "46  473.0          58\n",
       "47  498.0          59\n",
       "48  498.0          60\n",
       "49  498.0          61\n",
       "50  473.0          62\n",
       "51  498.0          63\n",
       "52  473.0          64\n",
       "53  473.0          65\n",
       "54  498.0          66\n",
       "55  498.0          67\n",
       "56  498.0          68\n",
       "57  473.0          69\n",
       "58  498.0          70\n",
       "59  473.0          71"
      ]
     },
     "execution_count": 239,
     "metadata": {},
     "output_type": "execute_result"
    }
   ],
   "source": [
    "# df"
   ]
  },
  {
   "cell_type": "code",
   "execution_count": 240,
   "metadata": {
    "collapsed": false
   },
   "outputs": [
    {
     "name": "stderr",
     "output_type": "stream",
     "text": [
      "C:\\Users\\ajain\\Anaconda2\\lib\\site-packages\\ipykernel\\__main__.py:1: SettingWithCopyWarning: \n",
      "A value is trying to be set on a copy of a slice from a DataFrame\n",
      "\n",
      "See the caveats in the documentation: http://pandas.pydata.org/pandas-docs/stable/indexing.html#indexing-view-versus-copy\n",
      "  if __name__ == '__main__':\n"
     ]
    }
   ],
   "source": [
    "# df[\"Price\"][9]= 420\n",
    "# df[]"
   ]
  },
  {
   "cell_type": "code",
   "execution_count": 14,
   "metadata": {
    "collapsed": true
   },
   "outputs": [
    {
     "data": {
      "text/html": [
       "<div>\n",
       "<table border=\"1\" class=\"dataframe\">\n",
       "  <thead>\n",
       "    <tr style=\"text-align: right;\">\n",
       "      <th></th>\n",
       "      <th>Price</th>\n",
       "      <th>Start_Date</th>\n",
       "    </tr>\n",
       "  </thead>\n",
       "  <tbody>\n",
       "    <tr>\n",
       "      <th>0</th>\n",
       "      <td>600.0</td>\n",
       "      <td>12</td>\n",
       "    </tr>\n",
       "    <tr>\n",
       "      <th>1</th>\n",
       "      <td>575.0</td>\n",
       "      <td>13</td>\n",
       "    </tr>\n",
       "    <tr>\n",
       "      <th>2</th>\n",
       "      <td>848.0</td>\n",
       "      <td>14</td>\n",
       "    </tr>\n",
       "    <tr>\n",
       "      <th>3</th>\n",
       "      <td>728.0</td>\n",
       "      <td>15</td>\n",
       "    </tr>\n",
       "    <tr>\n",
       "      <th>4</th>\n",
       "      <td>691.0</td>\n",
       "      <td>16</td>\n",
       "    </tr>\n",
       "    <tr>\n",
       "      <th>5</th>\n",
       "      <td>703.0</td>\n",
       "      <td>17</td>\n",
       "    </tr>\n",
       "    <tr>\n",
       "      <th>6</th>\n",
       "      <td>538.0</td>\n",
       "      <td>18</td>\n",
       "    </tr>\n",
       "    <tr>\n",
       "      <th>7</th>\n",
       "      <td>513.0</td>\n",
       "      <td>19</td>\n",
       "    </tr>\n",
       "    <tr>\n",
       "      <th>8</th>\n",
       "      <td>513.0</td>\n",
       "      <td>20</td>\n",
       "    </tr>\n",
       "    <tr>\n",
       "      <th>9</th>\n",
       "      <td>420.0</td>\n",
       "      <td>21</td>\n",
       "    </tr>\n",
       "    <tr>\n",
       "      <th>10</th>\n",
       "      <td>599.0</td>\n",
       "      <td>22</td>\n",
       "    </tr>\n",
       "    <tr>\n",
       "      <th>11</th>\n",
       "      <td>515.0</td>\n",
       "      <td>23</td>\n",
       "    </tr>\n",
       "    <tr>\n",
       "      <th>12</th>\n",
       "      <td>515.0</td>\n",
       "      <td>24</td>\n",
       "    </tr>\n",
       "    <tr>\n",
       "      <th>13</th>\n",
       "      <td>515.0</td>\n",
       "      <td>25</td>\n",
       "    </tr>\n",
       "    <tr>\n",
       "      <th>14</th>\n",
       "      <td>515.0</td>\n",
       "      <td>26</td>\n",
       "    </tr>\n",
       "    <tr>\n",
       "      <th>15</th>\n",
       "      <td>515.0</td>\n",
       "      <td>27</td>\n",
       "    </tr>\n",
       "    <tr>\n",
       "      <th>16</th>\n",
       "      <td>515.0</td>\n",
       "      <td>28</td>\n",
       "    </tr>\n",
       "    <tr>\n",
       "      <th>17</th>\n",
       "      <td>513.0</td>\n",
       "      <td>29</td>\n",
       "    </tr>\n",
       "    <tr>\n",
       "      <th>18</th>\n",
       "      <td>513.0</td>\n",
       "      <td>30</td>\n",
       "    </tr>\n",
       "    <tr>\n",
       "      <th>19</th>\n",
       "      <td>515.0</td>\n",
       "      <td>31</td>\n",
       "    </tr>\n",
       "    <tr>\n",
       "      <th>20</th>\n",
       "      <td>515.0</td>\n",
       "      <td>32</td>\n",
       "    </tr>\n",
       "    <tr>\n",
       "      <th>21</th>\n",
       "      <td>515.0</td>\n",
       "      <td>33</td>\n",
       "    </tr>\n",
       "    <tr>\n",
       "      <th>22</th>\n",
       "      <td>515.0</td>\n",
       "      <td>34</td>\n",
       "    </tr>\n",
       "    <tr>\n",
       "      <th>23</th>\n",
       "      <td>513.0</td>\n",
       "      <td>35</td>\n",
       "    </tr>\n",
       "    <tr>\n",
       "      <th>24</th>\n",
       "      <td>513.0</td>\n",
       "      <td>36</td>\n",
       "    </tr>\n",
       "    <tr>\n",
       "      <th>25</th>\n",
       "      <td>513.0</td>\n",
       "      <td>37</td>\n",
       "    </tr>\n",
       "    <tr>\n",
       "      <th>26</th>\n",
       "      <td>515.0</td>\n",
       "      <td>38</td>\n",
       "    </tr>\n",
       "    <tr>\n",
       "      <th>27</th>\n",
       "      <td>515.0</td>\n",
       "      <td>39</td>\n",
       "    </tr>\n",
       "    <tr>\n",
       "      <th>28</th>\n",
       "      <td>513.0</td>\n",
       "      <td>40</td>\n",
       "    </tr>\n",
       "    <tr>\n",
       "      <th>29</th>\n",
       "      <td>513.0</td>\n",
       "      <td>41</td>\n",
       "    </tr>\n",
       "    <tr>\n",
       "      <th>30</th>\n",
       "      <td>513.0</td>\n",
       "      <td>42</td>\n",
       "    </tr>\n",
       "    <tr>\n",
       "      <th>31</th>\n",
       "      <td>473.0</td>\n",
       "      <td>43</td>\n",
       "    </tr>\n",
       "    <tr>\n",
       "      <th>32</th>\n",
       "      <td>473.0</td>\n",
       "      <td>44</td>\n",
       "    </tr>\n",
       "    <tr>\n",
       "      <th>33</th>\n",
       "      <td>498.0</td>\n",
       "      <td>45</td>\n",
       "    </tr>\n",
       "    <tr>\n",
       "      <th>34</th>\n",
       "      <td>498.0</td>\n",
       "      <td>46</td>\n",
       "    </tr>\n",
       "    <tr>\n",
       "      <th>35</th>\n",
       "      <td>498.0</td>\n",
       "      <td>47</td>\n",
       "    </tr>\n",
       "    <tr>\n",
       "      <th>36</th>\n",
       "      <td>498.0</td>\n",
       "      <td>48</td>\n",
       "    </tr>\n",
       "    <tr>\n",
       "      <th>37</th>\n",
       "      <td>498.0</td>\n",
       "      <td>49</td>\n",
       "    </tr>\n",
       "    <tr>\n",
       "      <th>38</th>\n",
       "      <td>498.0</td>\n",
       "      <td>50</td>\n",
       "    </tr>\n",
       "    <tr>\n",
       "      <th>39</th>\n",
       "      <td>515.0</td>\n",
       "      <td>51</td>\n",
       "    </tr>\n",
       "    <tr>\n",
       "      <th>40</th>\n",
       "      <td>524.0</td>\n",
       "      <td>52</td>\n",
       "    </tr>\n",
       "    <tr>\n",
       "      <th>41</th>\n",
       "      <td>498.0</td>\n",
       "      <td>53</td>\n",
       "    </tr>\n",
       "    <tr>\n",
       "      <th>42</th>\n",
       "      <td>498.0</td>\n",
       "      <td>54</td>\n",
       "    </tr>\n",
       "    <tr>\n",
       "      <th>43</th>\n",
       "      <td>473.0</td>\n",
       "      <td>55</td>\n",
       "    </tr>\n",
       "    <tr>\n",
       "      <th>44</th>\n",
       "      <td>515.0</td>\n",
       "      <td>56</td>\n",
       "    </tr>\n",
       "    <tr>\n",
       "      <th>45</th>\n",
       "      <td>515.0</td>\n",
       "      <td>57</td>\n",
       "    </tr>\n",
       "    <tr>\n",
       "      <th>46</th>\n",
       "      <td>473.0</td>\n",
       "      <td>58</td>\n",
       "    </tr>\n",
       "    <tr>\n",
       "      <th>47</th>\n",
       "      <td>498.0</td>\n",
       "      <td>59</td>\n",
       "    </tr>\n",
       "    <tr>\n",
       "      <th>48</th>\n",
       "      <td>498.0</td>\n",
       "      <td>60</td>\n",
       "    </tr>\n",
       "    <tr>\n",
       "      <th>49</th>\n",
       "      <td>498.0</td>\n",
       "      <td>61</td>\n",
       "    </tr>\n",
       "    <tr>\n",
       "      <th>50</th>\n",
       "      <td>473.0</td>\n",
       "      <td>62</td>\n",
       "    </tr>\n",
       "    <tr>\n",
       "      <th>51</th>\n",
       "      <td>498.0</td>\n",
       "      <td>63</td>\n",
       "    </tr>\n",
       "    <tr>\n",
       "      <th>52</th>\n",
       "      <td>473.0</td>\n",
       "      <td>64</td>\n",
       "    </tr>\n",
       "    <tr>\n",
       "      <th>53</th>\n",
       "      <td>473.0</td>\n",
       "      <td>65</td>\n",
       "    </tr>\n",
       "    <tr>\n",
       "      <th>54</th>\n",
       "      <td>498.0</td>\n",
       "      <td>66</td>\n",
       "    </tr>\n",
       "    <tr>\n",
       "      <th>55</th>\n",
       "      <td>498.0</td>\n",
       "      <td>67</td>\n",
       "    </tr>\n",
       "    <tr>\n",
       "      <th>56</th>\n",
       "      <td>498.0</td>\n",
       "      <td>68</td>\n",
       "    </tr>\n",
       "    <tr>\n",
       "      <th>57</th>\n",
       "      <td>473.0</td>\n",
       "      <td>69</td>\n",
       "    </tr>\n",
       "    <tr>\n",
       "      <th>58</th>\n",
       "      <td>498.0</td>\n",
       "      <td>70</td>\n",
       "    </tr>\n",
       "    <tr>\n",
       "      <th>59</th>\n",
       "      <td>473.0</td>\n",
       "      <td>71</td>\n",
       "    </tr>\n",
       "  </tbody>\n",
       "</table>\n",
       "</div>"
      ],
      "text/plain": [
       "    Price  Start_Date\n",
       "0   600.0          12\n",
       "1   575.0          13\n",
       "2   848.0          14\n",
       "3   728.0          15\n",
       "4   691.0          16\n",
       "5   703.0          17\n",
       "6   538.0          18\n",
       "7   513.0          19\n",
       "8   513.0          20\n",
       "9   420.0          21\n",
       "10  599.0          22\n",
       "11  515.0          23\n",
       "12  515.0          24\n",
       "13  515.0          25\n",
       "14  515.0          26\n",
       "15  515.0          27\n",
       "16  515.0          28\n",
       "17  513.0          29\n",
       "18  513.0          30\n",
       "19  515.0          31\n",
       "20  515.0          32\n",
       "21  515.0          33\n",
       "22  515.0          34\n",
       "23  513.0          35\n",
       "24  513.0          36\n",
       "25  513.0          37\n",
       "26  515.0          38\n",
       "27  515.0          39\n",
       "28  513.0          40\n",
       "29  513.0          41\n",
       "30  513.0          42\n",
       "31  473.0          43\n",
       "32  473.0          44\n",
       "33  498.0          45\n",
       "34  498.0          46\n",
       "35  498.0          47\n",
       "36  498.0          48\n",
       "37  498.0          49\n",
       "38  498.0          50\n",
       "39  515.0          51\n",
       "40  524.0          52\n",
       "41  498.0          53\n",
       "42  498.0          54\n",
       "43  473.0          55\n",
       "44  515.0          56\n",
       "45  515.0          57\n",
       "46  473.0          58\n",
       "47  498.0          59\n",
       "48  498.0          60\n",
       "49  498.0          61\n",
       "50  473.0          62\n",
       "51  498.0          63\n",
       "52  473.0          64\n",
       "53  473.0          65\n",
       "54  498.0          66\n",
       "55  498.0          67\n",
       "56  498.0          68\n",
       "57  473.0          69\n",
       "58  498.0          70\n",
       "59  473.0          71"
      ]
     },
     "execution_count": 14,
     "metadata": {},
     "output_type": "execute_result"
    }
   ],
   "source": [
    "df"
   ]
  },
  {
   "cell_type": "code",
   "execution_count": 38,
   "metadata": {
    "collapsed": true
   },
   "outputs": [],
   "source": [
    "#Task2"
   ]
  },
  {
   "cell_type": "code",
   "execution_count": 12,
   "metadata": {
    "collapsed": true
   },
   "outputs": [],
   "source": [
    "def scrape_data_90(start_date, from_place, to_place, city_name):\n",
    "    \n",
    "    to_input = driver.find_element_by_xpath('//*[@id=\"root\"]/div[3]/div[3]/div/div[4]/div/div')\n",
    "    to_input.click()\n",
    "    to_action = ActionChains(driver)\n",
    "    to_action.send_keys(to_place)\n",
    "    to_action.send_keys(Keys.ENTER)\n",
    "    to_action.perform()\n",
    "    \n",
    "    from_input = driver.find_element_by_xpath('//*[@id=\"root\"]/div[3]/div[3]/div/div[2]/div/div')\n",
    "    from_input.click()\n",
    "    from_action = ActionChains(driver)\n",
    "    from_action.send_keys(from_place)\n",
    "    from_action.send_keys(Keys.ENTER)\n",
    "    from_action.perform() \n",
    "    \n",
    "    time.sleep(5)\n",
    "    current_url = driver.current_url\n",
    "    split_url = current_url.split('2017')\n",
    "    new_url = split_url[0] + start_date\n",
    "    driver.get(new_url)    \n",
    "    \n",
    "    time.sleep(5)\n",
    "    results = driver.find_elements_by_class_name('LJTSM3-v-c')\n",
    "    \n",
    "\n",
    "    result_names = []\n",
    "    for i in range(len(results)):\n",
    "        result_names.append(results[i].text)\n",
    "\n",
    "    cities = []\n",
    "    for city in result_names:\n",
    "        name = city.split(',')\n",
    "        cities.append(unidecode(name[0]))\n",
    "    \n",
    "    lower_case = [x.lower() for x in cities]\n",
    "    if city_name.lower() in lower_case:\n",
    "        city_index = lower_case.index(city_name.lower())\n",
    "    \n",
    "    time.sleep(2)\n",
    "    \n",
    "    box_class = driver.find_elements_by_class_name(\"LJTSM3-v-m\")\n",
    "    test = box_class[city_index]\n",
    "    bars = test.find_elements_by_class_name('LJTSM3-w-x')\n",
    "\n",
    "    time.sleep(1)\n",
    "    data_90 = []\n",
    "\n",
    "    for bar in bars:\n",
    "        ActionChains(driver).move_to_element(bar).perform()\n",
    "        time.sleep(0.00001)\n",
    "        data_90.append((test.find_element_by_class_name('LJTSM3-w-k').find_elements_by_tag_name('div')[0].text,\n",
    "           test.find_element_by_class_name('LJTSM3-w-k').find_elements_by_tag_name('div')[1].text))\n",
    "    \n",
    "    move_bars_input = driver.find_element_by_xpath('//*[@id=\"root\"]/div[3]/div[4]/div/div[2]/div[1]/div/div[2]/div[2]/div/div[2]/div[5]')\n",
    "    move_bars_input.click()\n",
    "    move_bars_input = ActionChains(driver)\n",
    "    move_bars_input.perform()\n",
    "    \n",
    "    time.sleep(5)\n",
    "    results = driver.find_elements_by_class_name('LJTSM3-v-c')\n",
    "    result_names = []\n",
    "    for i in range(len(results)):\n",
    "        result_names.append(results[i].text)\n",
    "\n",
    "    cities = []\n",
    "    for city in result_names:\n",
    "        name = city.split(',')\n",
    "        cities.append(unidecode(name[0]))\n",
    "        \n",
    "    lower_case = [x.lower() for x in cities]\n",
    "    if city_name.lower() in lower_case:\n",
    "        city_index = lower_case.index(city_name.lower())\n",
    "        \n",
    "    time.sleep(2)\n",
    "        \n",
    "    box_class = driver.find_elements_by_class_name(\"LJTSM3-v-m\")\n",
    "    test = box_class[city_index]\n",
    "    bars = test.find_elements_by_class_name('LJTSM3-w-x')\n",
    "    \n",
    "    next_data= []\n",
    "    for bar in bars:\n",
    "        ActionChains(driver).move_to_element(bar).perform()\n",
    "        time.sleep(0.00001)\n",
    "        next_data.append((test.find_element_by_class_name('LJTSM3-w-k').find_elements_by_tag_name('div')[0].text,\n",
    "           test.find_element_by_class_name('LJTSM3-w-k').find_elements_by_tag_name('div')[1].text))\n",
    "    \n",
    "    time.sleep(3)\n",
    "    for element in next_data:\n",
    "        if element not in data_90:\n",
    "            data_90.append(element)\n",
    "            \n",
    "    d = data_90[0]\n",
    "    clean_data = [(float(d[0].replace('$', '').replace(',', '')), (parse(d[1].split('-')[0].strip()) - datetime.datetime(2017,4,4,0,0)).days)\n",
    "                      for d in data_90]\n",
    "    \n",
    "    df_90 = pd.DataFrame(clean_data, columns=['Price','Start_Date'])\n",
    "    return df_90   \n",
    "    "
   ]
  },
  {
   "cell_type": "code",
   "execution_count": 13,
   "metadata": {
    "collapsed": true
   },
   "outputs": [
    {
     "data": {
      "text/html": [
       "<div>\n",
       "<table border=\"1\" class=\"dataframe\">\n",
       "  <thead>\n",
       "    <tr style=\"text-align: right;\">\n",
       "      <th></th>\n",
       "      <th>Price</th>\n",
       "      <th>Start_Date</th>\n",
       "    </tr>\n",
       "  </thead>\n",
       "  <tbody>\n",
       "    <tr>\n",
       "      <th>0</th>\n",
       "      <td>51.0</td>\n",
       "      <td>16</td>\n",
       "    </tr>\n",
       "    <tr>\n",
       "      <th>1</th>\n",
       "      <td>157.0</td>\n",
       "      <td>17</td>\n",
       "    </tr>\n",
       "    <tr>\n",
       "      <th>2</th>\n",
       "      <td>142.0</td>\n",
       "      <td>18</td>\n",
       "    </tr>\n",
       "    <tr>\n",
       "      <th>3</th>\n",
       "      <td>122.0</td>\n",
       "      <td>19</td>\n",
       "    </tr>\n",
       "    <tr>\n",
       "      <th>4</th>\n",
       "      <td>75.0</td>\n",
       "      <td>20</td>\n",
       "    </tr>\n",
       "    <tr>\n",
       "      <th>5</th>\n",
       "      <td>51.0</td>\n",
       "      <td>21</td>\n",
       "    </tr>\n",
       "    <tr>\n",
       "      <th>6</th>\n",
       "      <td>51.0</td>\n",
       "      <td>22</td>\n",
       "    </tr>\n",
       "    <tr>\n",
       "      <th>7</th>\n",
       "      <td>47.0</td>\n",
       "      <td>23</td>\n",
       "    </tr>\n",
       "    <tr>\n",
       "      <th>8</th>\n",
       "      <td>118.0</td>\n",
       "      <td>24</td>\n",
       "    </tr>\n",
       "    <tr>\n",
       "      <th>9</th>\n",
       "      <td>61.0</td>\n",
       "      <td>25</td>\n",
       "    </tr>\n",
       "    <tr>\n",
       "      <th>10</th>\n",
       "      <td>47.0</td>\n",
       "      <td>26</td>\n",
       "    </tr>\n",
       "    <tr>\n",
       "      <th>11</th>\n",
       "      <td>43.0</td>\n",
       "      <td>27</td>\n",
       "    </tr>\n",
       "    <tr>\n",
       "      <th>12</th>\n",
       "      <td>43.0</td>\n",
       "      <td>28</td>\n",
       "    </tr>\n",
       "    <tr>\n",
       "      <th>13</th>\n",
       "      <td>43.0</td>\n",
       "      <td>29</td>\n",
       "    </tr>\n",
       "    <tr>\n",
       "      <th>14</th>\n",
       "      <td>43.0</td>\n",
       "      <td>30</td>\n",
       "    </tr>\n",
       "    <tr>\n",
       "      <th>15</th>\n",
       "      <td>63.0</td>\n",
       "      <td>31</td>\n",
       "    </tr>\n",
       "    <tr>\n",
       "      <th>16</th>\n",
       "      <td>43.0</td>\n",
       "      <td>32</td>\n",
       "    </tr>\n",
       "    <tr>\n",
       "      <th>17</th>\n",
       "      <td>43.0</td>\n",
       "      <td>33</td>\n",
       "    </tr>\n",
       "    <tr>\n",
       "      <th>18</th>\n",
       "      <td>43.0</td>\n",
       "      <td>34</td>\n",
       "    </tr>\n",
       "    <tr>\n",
       "      <th>19</th>\n",
       "      <td>43.0</td>\n",
       "      <td>35</td>\n",
       "    </tr>\n",
       "    <tr>\n",
       "      <th>20</th>\n",
       "      <td>43.0</td>\n",
       "      <td>36</td>\n",
       "    </tr>\n",
       "    <tr>\n",
       "      <th>21</th>\n",
       "      <td>43.0</td>\n",
       "      <td>37</td>\n",
       "    </tr>\n",
       "    <tr>\n",
       "      <th>22</th>\n",
       "      <td>57.0</td>\n",
       "      <td>38</td>\n",
       "    </tr>\n",
       "    <tr>\n",
       "      <th>23</th>\n",
       "      <td>43.0</td>\n",
       "      <td>39</td>\n",
       "    </tr>\n",
       "    <tr>\n",
       "      <th>24</th>\n",
       "      <td>43.0</td>\n",
       "      <td>40</td>\n",
       "    </tr>\n",
       "    <tr>\n",
       "      <th>25</th>\n",
       "      <td>43.0</td>\n",
       "      <td>41</td>\n",
       "    </tr>\n",
       "    <tr>\n",
       "      <th>26</th>\n",
       "      <td>43.0</td>\n",
       "      <td>42</td>\n",
       "    </tr>\n",
       "    <tr>\n",
       "      <th>27</th>\n",
       "      <td>43.0</td>\n",
       "      <td>43</td>\n",
       "    </tr>\n",
       "    <tr>\n",
       "      <th>28</th>\n",
       "      <td>43.0</td>\n",
       "      <td>44</td>\n",
       "    </tr>\n",
       "    <tr>\n",
       "      <th>29</th>\n",
       "      <td>43.0</td>\n",
       "      <td>45</td>\n",
       "    </tr>\n",
       "    <tr>\n",
       "      <th>...</th>\n",
       "      <td>...</td>\n",
       "      <td>...</td>\n",
       "    </tr>\n",
       "    <tr>\n",
       "      <th>60</th>\n",
       "      <td>51.0</td>\n",
       "      <td>76</td>\n",
       "    </tr>\n",
       "    <tr>\n",
       "      <th>61</th>\n",
       "      <td>56.0</td>\n",
       "      <td>77</td>\n",
       "    </tr>\n",
       "    <tr>\n",
       "      <th>62</th>\n",
       "      <td>51.0</td>\n",
       "      <td>78</td>\n",
       "    </tr>\n",
       "    <tr>\n",
       "      <th>63</th>\n",
       "      <td>51.0</td>\n",
       "      <td>79</td>\n",
       "    </tr>\n",
       "    <tr>\n",
       "      <th>64</th>\n",
       "      <td>61.0</td>\n",
       "      <td>80</td>\n",
       "    </tr>\n",
       "    <tr>\n",
       "      <th>65</th>\n",
       "      <td>51.0</td>\n",
       "      <td>81</td>\n",
       "    </tr>\n",
       "    <tr>\n",
       "      <th>66</th>\n",
       "      <td>61.0</td>\n",
       "      <td>82</td>\n",
       "    </tr>\n",
       "    <tr>\n",
       "      <th>67</th>\n",
       "      <td>51.0</td>\n",
       "      <td>83</td>\n",
       "    </tr>\n",
       "    <tr>\n",
       "      <th>68</th>\n",
       "      <td>61.0</td>\n",
       "      <td>84</td>\n",
       "    </tr>\n",
       "    <tr>\n",
       "      <th>69</th>\n",
       "      <td>56.0</td>\n",
       "      <td>85</td>\n",
       "    </tr>\n",
       "    <tr>\n",
       "      <th>70</th>\n",
       "      <td>51.0</td>\n",
       "      <td>86</td>\n",
       "    </tr>\n",
       "    <tr>\n",
       "      <th>71</th>\n",
       "      <td>83.0</td>\n",
       "      <td>87</td>\n",
       "    </tr>\n",
       "    <tr>\n",
       "      <th>72</th>\n",
       "      <td>67.0</td>\n",
       "      <td>88</td>\n",
       "    </tr>\n",
       "    <tr>\n",
       "      <th>73</th>\n",
       "      <td>56.0</td>\n",
       "      <td>89</td>\n",
       "    </tr>\n",
       "    <tr>\n",
       "      <th>74</th>\n",
       "      <td>51.0</td>\n",
       "      <td>90</td>\n",
       "    </tr>\n",
       "    <tr>\n",
       "      <th>75</th>\n",
       "      <td>56.0</td>\n",
       "      <td>91</td>\n",
       "    </tr>\n",
       "    <tr>\n",
       "      <th>76</th>\n",
       "      <td>61.0</td>\n",
       "      <td>92</td>\n",
       "    </tr>\n",
       "    <tr>\n",
       "      <th>77</th>\n",
       "      <td>56.0</td>\n",
       "      <td>93</td>\n",
       "    </tr>\n",
       "    <tr>\n",
       "      <th>78</th>\n",
       "      <td>75.0</td>\n",
       "      <td>94</td>\n",
       "    </tr>\n",
       "    <tr>\n",
       "      <th>79</th>\n",
       "      <td>67.0</td>\n",
       "      <td>95</td>\n",
       "    </tr>\n",
       "    <tr>\n",
       "      <th>80</th>\n",
       "      <td>56.0</td>\n",
       "      <td>96</td>\n",
       "    </tr>\n",
       "    <tr>\n",
       "      <th>81</th>\n",
       "      <td>51.0</td>\n",
       "      <td>97</td>\n",
       "    </tr>\n",
       "    <tr>\n",
       "      <th>82</th>\n",
       "      <td>56.0</td>\n",
       "      <td>98</td>\n",
       "    </tr>\n",
       "    <tr>\n",
       "      <th>83</th>\n",
       "      <td>51.0</td>\n",
       "      <td>99</td>\n",
       "    </tr>\n",
       "    <tr>\n",
       "      <th>84</th>\n",
       "      <td>56.0</td>\n",
       "      <td>100</td>\n",
       "    </tr>\n",
       "    <tr>\n",
       "      <th>85</th>\n",
       "      <td>67.0</td>\n",
       "      <td>101</td>\n",
       "    </tr>\n",
       "    <tr>\n",
       "      <th>86</th>\n",
       "      <td>61.0</td>\n",
       "      <td>102</td>\n",
       "    </tr>\n",
       "    <tr>\n",
       "      <th>87</th>\n",
       "      <td>61.0</td>\n",
       "      <td>103</td>\n",
       "    </tr>\n",
       "    <tr>\n",
       "      <th>88</th>\n",
       "      <td>51.0</td>\n",
       "      <td>104</td>\n",
       "    </tr>\n",
       "    <tr>\n",
       "      <th>89</th>\n",
       "      <td>51.0</td>\n",
       "      <td>105</td>\n",
       "    </tr>\n",
       "  </tbody>\n",
       "</table>\n",
       "<p>90 rows × 2 columns</p>\n",
       "</div>"
      ],
      "text/plain": [
       "    Price  Start_Date\n",
       "0    51.0          16\n",
       "1   157.0          17\n",
       "2   142.0          18\n",
       "3   122.0          19\n",
       "4    75.0          20\n",
       "5    51.0          21\n",
       "6    51.0          22\n",
       "7    47.0          23\n",
       "8   118.0          24\n",
       "9    61.0          25\n",
       "10   47.0          26\n",
       "11   43.0          27\n",
       "12   43.0          28\n",
       "13   43.0          29\n",
       "14   43.0          30\n",
       "15   63.0          31\n",
       "16   43.0          32\n",
       "17   43.0          33\n",
       "18   43.0          34\n",
       "19   43.0          35\n",
       "20   43.0          36\n",
       "21   43.0          37\n",
       "22   57.0          38\n",
       "23   43.0          39\n",
       "24   43.0          40\n",
       "25   43.0          41\n",
       "26   43.0          42\n",
       "27   43.0          43\n",
       "28   43.0          44\n",
       "29   43.0          45\n",
       "..    ...         ...\n",
       "60   51.0          76\n",
       "61   56.0          77\n",
       "62   51.0          78\n",
       "63   51.0          79\n",
       "64   61.0          80\n",
       "65   51.0          81\n",
       "66   61.0          82\n",
       "67   51.0          83\n",
       "68   61.0          84\n",
       "69   56.0          85\n",
       "70   51.0          86\n",
       "71   83.0          87\n",
       "72   67.0          88\n",
       "73   56.0          89\n",
       "74   51.0          90\n",
       "75   56.0          91\n",
       "76   61.0          92\n",
       "77   56.0          93\n",
       "78   75.0          94\n",
       "79   67.0          95\n",
       "80   56.0          96\n",
       "81   51.0          97\n",
       "82   56.0          98\n",
       "83   51.0          99\n",
       "84   56.0         100\n",
       "85   67.0         101\n",
       "86   61.0         102\n",
       "87   61.0         103\n",
       "88   51.0         104\n",
       "89   51.0         105\n",
       "\n",
       "[90 rows x 2 columns]"
      ]
     },
     "execution_count": 13,
     "metadata": {},
     "output_type": "execute_result"
    }
   ],
   "source": [
    "scrape_data_90('2017-04-20','London','Europe','Dublin')"
   ]
  },
  {
   "cell_type": "code",
   "execution_count": 101,
   "metadata": {
    "collapsed": false
   },
   "outputs": [],
   "source": [
    "# df = scrape_data_90('2017-04-16','London','California','San Jose')"
   ]
  },
  {
   "cell_type": "code",
   "execution_count": 102,
   "metadata": {
    "collapsed": true
   },
   "outputs": [
    {
     "data": {
      "text/html": [
       "<div>\n",
       "<table border=\"1\" class=\"dataframe\">\n",
       "  <thead>\n",
       "    <tr style=\"text-align: right;\">\n",
       "      <th></th>\n",
       "      <th>Price</th>\n",
       "      <th>Start_Date</th>\n",
       "    </tr>\n",
       "  </thead>\n",
       "  <tbody>\n",
       "    <tr>\n",
       "      <th>0</th>\n",
       "      <td>1290.0</td>\n",
       "      <td>12</td>\n",
       "    </tr>\n",
       "    <tr>\n",
       "      <th>1</th>\n",
       "      <td>1278.0</td>\n",
       "      <td>13</td>\n",
       "    </tr>\n",
       "    <tr>\n",
       "      <th>2</th>\n",
       "      <td>1187.0</td>\n",
       "      <td>14</td>\n",
       "    </tr>\n",
       "    <tr>\n",
       "      <th>3</th>\n",
       "      <td>1190.0</td>\n",
       "      <td>15</td>\n",
       "    </tr>\n",
       "    <tr>\n",
       "      <th>4</th>\n",
       "      <td>1155.0</td>\n",
       "      <td>16</td>\n",
       "    </tr>\n",
       "    <tr>\n",
       "      <th>5</th>\n",
       "      <td>1224.0</td>\n",
       "      <td>17</td>\n",
       "    </tr>\n",
       "    <tr>\n",
       "      <th>6</th>\n",
       "      <td>1198.0</td>\n",
       "      <td>18</td>\n",
       "    </tr>\n",
       "    <tr>\n",
       "      <th>7</th>\n",
       "      <td>1315.0</td>\n",
       "      <td>19</td>\n",
       "    </tr>\n",
       "    <tr>\n",
       "      <th>8</th>\n",
       "      <td>1004.0</td>\n",
       "      <td>20</td>\n",
       "    </tr>\n",
       "    <tr>\n",
       "      <th>9</th>\n",
       "      <td>904.0</td>\n",
       "      <td>21</td>\n",
       "    </tr>\n",
       "    <tr>\n",
       "      <th>10</th>\n",
       "      <td>856.0</td>\n",
       "      <td>22</td>\n",
       "    </tr>\n",
       "    <tr>\n",
       "      <th>11</th>\n",
       "      <td>917.0</td>\n",
       "      <td>23</td>\n",
       "    </tr>\n",
       "    <tr>\n",
       "      <th>12</th>\n",
       "      <td>917.0</td>\n",
       "      <td>24</td>\n",
       "    </tr>\n",
       "    <tr>\n",
       "      <th>13</th>\n",
       "      <td>885.0</td>\n",
       "      <td>25</td>\n",
       "    </tr>\n",
       "    <tr>\n",
       "      <th>14</th>\n",
       "      <td>1163.0</td>\n",
       "      <td>26</td>\n",
       "    </tr>\n",
       "    <tr>\n",
       "      <th>15</th>\n",
       "      <td>738.0</td>\n",
       "      <td>27</td>\n",
       "    </tr>\n",
       "    <tr>\n",
       "      <th>16</th>\n",
       "      <td>738.0</td>\n",
       "      <td>28</td>\n",
       "    </tr>\n",
       "    <tr>\n",
       "      <th>17</th>\n",
       "      <td>726.0</td>\n",
       "      <td>29</td>\n",
       "    </tr>\n",
       "    <tr>\n",
       "      <th>18</th>\n",
       "      <td>742.0</td>\n",
       "      <td>30</td>\n",
       "    </tr>\n",
       "    <tr>\n",
       "      <th>19</th>\n",
       "      <td>724.0</td>\n",
       "      <td>31</td>\n",
       "    </tr>\n",
       "    <tr>\n",
       "      <th>20</th>\n",
       "      <td>728.0</td>\n",
       "      <td>32</td>\n",
       "    </tr>\n",
       "    <tr>\n",
       "      <th>21</th>\n",
       "      <td>777.0</td>\n",
       "      <td>33</td>\n",
       "    </tr>\n",
       "    <tr>\n",
       "      <th>22</th>\n",
       "      <td>726.0</td>\n",
       "      <td>34</td>\n",
       "    </tr>\n",
       "    <tr>\n",
       "      <th>23</th>\n",
       "      <td>738.0</td>\n",
       "      <td>35</td>\n",
       "    </tr>\n",
       "    <tr>\n",
       "      <th>24</th>\n",
       "      <td>726.0</td>\n",
       "      <td>36</td>\n",
       "    </tr>\n",
       "    <tr>\n",
       "      <th>25</th>\n",
       "      <td>738.0</td>\n",
       "      <td>37</td>\n",
       "    </tr>\n",
       "    <tr>\n",
       "      <th>26</th>\n",
       "      <td>751.0</td>\n",
       "      <td>38</td>\n",
       "    </tr>\n",
       "    <tr>\n",
       "      <th>27</th>\n",
       "      <td>728.0</td>\n",
       "      <td>39</td>\n",
       "    </tr>\n",
       "    <tr>\n",
       "      <th>28</th>\n",
       "      <td>742.0</td>\n",
       "      <td>40</td>\n",
       "    </tr>\n",
       "    <tr>\n",
       "      <th>29</th>\n",
       "      <td>726.0</td>\n",
       "      <td>41</td>\n",
       "    </tr>\n",
       "    <tr>\n",
       "      <th>...</th>\n",
       "      <td>...</td>\n",
       "      <td>...</td>\n",
       "    </tr>\n",
       "    <tr>\n",
       "      <th>60</th>\n",
       "      <td>685.0</td>\n",
       "      <td>72</td>\n",
       "    </tr>\n",
       "    <tr>\n",
       "      <th>61</th>\n",
       "      <td>695.0</td>\n",
       "      <td>73</td>\n",
       "    </tr>\n",
       "    <tr>\n",
       "      <th>62</th>\n",
       "      <td>892.0</td>\n",
       "      <td>74</td>\n",
       "    </tr>\n",
       "    <tr>\n",
       "      <th>63</th>\n",
       "      <td>1025.0</td>\n",
       "      <td>75</td>\n",
       "    </tr>\n",
       "    <tr>\n",
       "      <th>64</th>\n",
       "      <td>839.0</td>\n",
       "      <td>76</td>\n",
       "    </tr>\n",
       "    <tr>\n",
       "      <th>65</th>\n",
       "      <td>762.0</td>\n",
       "      <td>77</td>\n",
       "    </tr>\n",
       "    <tr>\n",
       "      <th>66</th>\n",
       "      <td>874.0</td>\n",
       "      <td>78</td>\n",
       "    </tr>\n",
       "    <tr>\n",
       "      <th>67</th>\n",
       "      <td>801.0</td>\n",
       "      <td>79</td>\n",
       "    </tr>\n",
       "    <tr>\n",
       "      <th>68</th>\n",
       "      <td>792.0</td>\n",
       "      <td>80</td>\n",
       "    </tr>\n",
       "    <tr>\n",
       "      <th>69</th>\n",
       "      <td>942.0</td>\n",
       "      <td>81</td>\n",
       "    </tr>\n",
       "    <tr>\n",
       "      <th>70</th>\n",
       "      <td>1153.0</td>\n",
       "      <td>82</td>\n",
       "    </tr>\n",
       "    <tr>\n",
       "      <th>71</th>\n",
       "      <td>810.0</td>\n",
       "      <td>83</td>\n",
       "    </tr>\n",
       "    <tr>\n",
       "      <th>72</th>\n",
       "      <td>793.0</td>\n",
       "      <td>84</td>\n",
       "    </tr>\n",
       "    <tr>\n",
       "      <th>73</th>\n",
       "      <td>855.0</td>\n",
       "      <td>85</td>\n",
       "    </tr>\n",
       "    <tr>\n",
       "      <th>74</th>\n",
       "      <td>808.0</td>\n",
       "      <td>86</td>\n",
       "    </tr>\n",
       "    <tr>\n",
       "      <th>75</th>\n",
       "      <td>792.0</td>\n",
       "      <td>87</td>\n",
       "    </tr>\n",
       "    <tr>\n",
       "      <th>76</th>\n",
       "      <td>905.0</td>\n",
       "      <td>88</td>\n",
       "    </tr>\n",
       "    <tr>\n",
       "      <th>77</th>\n",
       "      <td>1300.0</td>\n",
       "      <td>89</td>\n",
       "    </tr>\n",
       "    <tr>\n",
       "      <th>78</th>\n",
       "      <td>863.0</td>\n",
       "      <td>90</td>\n",
       "    </tr>\n",
       "    <tr>\n",
       "      <th>79</th>\n",
       "      <td>830.0</td>\n",
       "      <td>91</td>\n",
       "    </tr>\n",
       "    <tr>\n",
       "      <th>80</th>\n",
       "      <td>895.0</td>\n",
       "      <td>92</td>\n",
       "    </tr>\n",
       "    <tr>\n",
       "      <th>81</th>\n",
       "      <td>792.0</td>\n",
       "      <td>93</td>\n",
       "    </tr>\n",
       "    <tr>\n",
       "      <th>82</th>\n",
       "      <td>792.0</td>\n",
       "      <td>94</td>\n",
       "    </tr>\n",
       "    <tr>\n",
       "      <th>83</th>\n",
       "      <td>1166.0</td>\n",
       "      <td>95</td>\n",
       "    </tr>\n",
       "    <tr>\n",
       "      <th>84</th>\n",
       "      <td>1246.0</td>\n",
       "      <td>96</td>\n",
       "    </tr>\n",
       "    <tr>\n",
       "      <th>85</th>\n",
       "      <td>808.0</td>\n",
       "      <td>97</td>\n",
       "    </tr>\n",
       "    <tr>\n",
       "      <th>86</th>\n",
       "      <td>808.0</td>\n",
       "      <td>98</td>\n",
       "    </tr>\n",
       "    <tr>\n",
       "      <th>87</th>\n",
       "      <td>872.0</td>\n",
       "      <td>99</td>\n",
       "    </tr>\n",
       "    <tr>\n",
       "      <th>88</th>\n",
       "      <td>792.0</td>\n",
       "      <td>100</td>\n",
       "    </tr>\n",
       "    <tr>\n",
       "      <th>89</th>\n",
       "      <td>792.0</td>\n",
       "      <td>101</td>\n",
       "    </tr>\n",
       "  </tbody>\n",
       "</table>\n",
       "<p>90 rows × 2 columns</p>\n",
       "</div>"
      ],
      "text/plain": [
       "     Price  Start_Date\n",
       "0   1290.0          12\n",
       "1   1278.0          13\n",
       "2   1187.0          14\n",
       "3   1190.0          15\n",
       "4   1155.0          16\n",
       "5   1224.0          17\n",
       "6   1198.0          18\n",
       "7   1315.0          19\n",
       "8   1004.0          20\n",
       "9    904.0          21\n",
       "10   856.0          22\n",
       "11   917.0          23\n",
       "12   917.0          24\n",
       "13   885.0          25\n",
       "14  1163.0          26\n",
       "15   738.0          27\n",
       "16   738.0          28\n",
       "17   726.0          29\n",
       "18   742.0          30\n",
       "19   724.0          31\n",
       "20   728.0          32\n",
       "21   777.0          33\n",
       "22   726.0          34\n",
       "23   738.0          35\n",
       "24   726.0          36\n",
       "25   738.0          37\n",
       "26   751.0          38\n",
       "27   728.0          39\n",
       "28   742.0          40\n",
       "29   726.0          41\n",
       "..     ...         ...\n",
       "60   685.0          72\n",
       "61   695.0          73\n",
       "62   892.0          74\n",
       "63  1025.0          75\n",
       "64   839.0          76\n",
       "65   762.0          77\n",
       "66   874.0          78\n",
       "67   801.0          79\n",
       "68   792.0          80\n",
       "69   942.0          81\n",
       "70  1153.0          82\n",
       "71   810.0          83\n",
       "72   793.0          84\n",
       "73   855.0          85\n",
       "74   808.0          86\n",
       "75   792.0          87\n",
       "76   905.0          88\n",
       "77  1300.0          89\n",
       "78   863.0          90\n",
       "79   830.0          91\n",
       "80   895.0          92\n",
       "81   792.0          93\n",
       "82   792.0          94\n",
       "83  1166.0          95\n",
       "84  1246.0          96\n",
       "85   808.0          97\n",
       "86   808.0          98\n",
       "87   872.0          99\n",
       "88   792.0         100\n",
       "89   792.0         101\n",
       "\n",
       "[90 rows x 2 columns]"
      ]
     },
     "execution_count": 102,
     "metadata": {},
     "output_type": "execute_result"
    }
   ],
   "source": [
    "# df"
   ]
  },
  {
   "cell_type": "code",
   "execution_count": 103,
   "metadata": {
    "collapsed": true
   },
   "outputs": [],
   "source": [
    "#Task 3 - IQR"
   ]
  },
  {
   "cell_type": "code",
   "execution_count": 40,
   "metadata": {
    "collapsed": false
   },
   "outputs": [
    {
     "data": {
      "text/plain": [
       "<matplotlib.axes._subplots.AxesSubplot at 0x10479438>"
      ]
     },
     "execution_count": 40,
     "metadata": {},
     "output_type": "execute_result"
    },
    {
     "data": {
      "image/png": "[encoded data removed]",
      "text/plain": [
       "<matplotlib.figure.Figure at 0xe33b8d0>"
      ]
     },
     "metadata": {},
     "output_type": "display_data"
    }
   ],
   "source": [
    "df['Price'].plot.box()"
   ]
  },
  {
   "cell_type": "code",
   "execution_count": 41,
   "metadata": {
    "collapsed": true
   },
   "outputs": [],
   "source": [
    "import numpy as np\n",
    "\n",
    "def outliers_iqr(ys):\n",
    "    quartile_1, quartile_3 = np.percentile(ys, [25, 75])\n",
    "    iqr = quartile_3 - quartile_1\n",
    "    lower_bound = quartile_1 - (iqr * 1.5)\n",
    "    upper_bound = quartile_3 + (iqr * 1.5)\n",
    "    return np.where((ys > upper_bound) | (ys < lower_bound))"
   ]
  },
  {
   "cell_type": "code",
   "execution_count": 42,
   "metadata": {
    "collapsed": false
   },
   "outputs": [
    {
     "data": {
      "text/plain": [
       "(array([ 0,  1,  2,  3,  4,  5,  6,  7,  8,  9, 10], dtype=int64),)"
      ]
     },
     "execution_count": 42,
     "metadata": {},
     "output_type": "execute_result"
    }
   ],
   "source": [
    "outliers_iqr(df['Price'])"
   ]
  },
  {
   "cell_type": "code",
   "execution_count": 43,
   "metadata": {
    "collapsed": false
   },
   "outputs": [
    {
     "data": {
      "text/plain": [
       "(463.25, 561.25)"
      ]
     },
     "execution_count": 43,
     "metadata": {},
     "output_type": "execute_result"
    }
   ],
   "source": [
    "q75, q25 = np.percentile(df.Price, [75 ,25])\n",
    "iqr = q75 - q25\n",
    " \n",
    "min = q25 - (iqr*1.5)\n",
    "max = q75 + (iqr*1.5)\n",
    "min, max"
   ]
  },
  {
   "cell_type": "code",
   "execution_count": 44,
   "metadata": {
    "collapsed": false
   },
   "outputs": [
    {
     "data": {
      "text/plain": [
       "500.0"
      ]
     },
     "execution_count": 44,
     "metadata": {},
     "output_type": "execute_result"
    }
   ],
   "source": [
    "Q1 = df['Price'].quantile(0.25)\n",
    "Q3 = df['Price'].quantile(0.75)\n",
    "# IQR = Q3 - Q1\n",
    "Q1\n",
    "\n",
    "# #Values between Q1-1.5IQR and Q3+1.5IQR\n",
    "# filtered = df.query('(@Q1 - 1.5 * @IQR) <= nb <= (@Q3 + 1.5 * @IQR)')\n",
    "\n",
    "# print(filtered.head())\n",
    "# #     nb"
   ]
  },
  {
   "cell_type": "code",
   "execution_count": 45,
   "metadata": {
    "collapsed": true
   },
   "outputs": [
    {
     "data": {
      "text/plain": [
       "13    524.0\n",
       "14    518.0\n",
       "15    518.0\n",
       "16    518.0\n",
       "17    516.0\n",
       "18    516.0\n",
       "19    524.0\n",
       "20    524.0\n",
       "21    518.0\n",
       "22    518.0\n",
       "23    516.0\n",
       "24    516.0\n",
       "25    516.0\n",
       "26    524.0\n",
       "27    524.0\n",
       "28    516.0\n",
       "29    516.0\n",
       "30    516.0\n",
       "33    500.0\n",
       "34    500.0\n",
       "35    500.0\n",
       "36    500.0\n",
       "37    500.0\n",
       "38    500.0\n",
       "41    500.0\n",
       "42    500.0\n",
       "44    518.0\n",
       "45    518.0\n",
       "47    500.0\n",
       "48    500.0\n",
       "49    500.0\n",
       "51    500.0\n",
       "54    500.0\n",
       "55    500.0\n",
       "56    500.0\n",
       "58    500.0\n",
       "Name: Price, dtype: float64"
      ]
     },
     "execution_count": 45,
     "metadata": {},
     "output_type": "execute_result"
    }
   ],
   "source": [
    "q1 = df['Price'].quantile(.25)\n",
    "q2 = df['Price'].quantile(.75)\n",
    "mask = df['Price'].between(q1, q2, inclusive=True)\n",
    "iqr = df.loc[mask, 'Price']\n",
    "iqr"
   ]
  },
  {
   "cell_type": "code",
   "execution_count": 46,
   "metadata": {
    "collapsed": false
   },
   "outputs": [
    {
     "data": {
      "text/plain": [
       "<matplotlib.lines.Line2D at 0x10424a58>"
      ]
     },
     "execution_count": 46,
     "metadata": {},
     "output_type": "execute_result"
    },
    {
     "data": {
      "image/png": "[encoded data removed]",
      "text/plain": [
       "<matplotlib.figure.Figure at 0xe33b898>"
      ]
     },
     "metadata": {},
     "output_type": "display_data"
    }
   ],
   "source": [
    "i = 'Price'\n",
    " \n",
    "# plt.figure(figsize=(10,8))\n",
    "# plt.subplot(211)\n",
    "# plt.xlim(df[i].min(), df[i].max()*1.1)\n",
    "# plt.axvline(x=min)\n",
    "# plt.axvline(x=max)\n",
    " \n",
    "ax = df[i].plot(kind='kde')\n",
    " \n",
    "plt.subplot(212)\n",
    "plt.xlim(df[i].min(), df[i].max()*1.1)\n",
    "sns.boxplot(x=df[i])\n",
    "plt.axvline(x=min)\n",
    "plt.axvline(x=max)"
   ]
  },
  {
   "cell_type": "code",
   "execution_count": 47,
   "metadata": {
    "collapsed": false
   },
   "outputs": [
    {
     "data": {
      "text/plain": [
       "<matplotlib.collections.PathCollection at 0xe106c50>"
      ]
     },
     "execution_count": 47,
     "metadata": {},
     "output_type": "execute_result"
    },
    {
     "data": {
      "image/png": "[encoded data removed]",
      "text/plain": [
       "<matplotlib.figure.Figure at 0x10449f60>"
      ]
     },
     "metadata": {},
     "output_type": "display_data"
    }
   ],
   "source": [
    "fig, ax = plt.subplots(figsize=(10,6))\n",
    "plt.scatter(np.arange(len(df['Price'])), df['Price'])"
   ]
  },
  {
   "cell_type": "code",
   "execution_count": 48,
   "metadata": {
    "collapsed": true
   },
   "outputs": [],
   "source": [
    "px = [x for x in df['Price']]\n",
    "ff = pd.DataFrame(px, columns=['Price_of_flight']).reset_index()"
   ]
  },
  {
   "cell_type": "code",
   "execution_count": 49,
   "metadata": {
    "collapsed": true
   },
   "outputs": [],
   "source": [
    "# X = StandardScaler().fit_transform(ff) \n",
    "# db = DBSCAN(eps = 0.01, min_samples = 1).fit(X)\n",
    "\n",
    "# labels = db.labels_\n",
    "# clusters = len(set(labels))\n",
    "# unique_labels = set(labels)\n",
    "# colors = plt.cm.Spectral(np.linspace(0, 1, len(unique_labels)))\n",
    "\n",
    "# plt.subplots(figsize = (12,8))\n",
    "\n",
    "# for k,c in zip(unique_labels, colors):\n",
    "#     class_member_mask = (labels == k)\n",
    "#     xy = X[class_member_mask]\n",
    "#     plt.plot(xy[:, 0], xy[:, 1], 'o', markerfacecolor = c, markeredgecolor = 'k',markersize = 14)\n",
    "    \n",
    "    \n",
    "# plt.title('Total Clusters: {}'.format(clusters), fontsize = 14, y = 1.01)   "
   ]
  },
  {
   "cell_type": "code",
   "execution_count": 51,
   "metadata": {
    "collapsed": true
   },
   "outputs": [
    {
     "name": "stdout",
     "output_type": "stream",
     "text": [
      "Cluster labels: [-1  0  1  2  3  4  5]\n",
      "Cluster Means: [array([ 0.27118644,  0.09656751]), array([ 0.38983051,  0.09565217]), array([ 0.49152542,  0.09382151]), array([ 0.60169492,  0.05720824]), array([ 0.81355932,  0.05720824]), array([ 0.93220339,  0.05720824])]\n",
      "[[0, 0], [1, 0], [2, 0], [3, 0], [4, 0], [5, 0], [6, 0], [7, 0], [8, 0], [9, 0], [10, 0], [11, 0], [12, 0], [13, 0], [14, 0], [15, 1], [16, 1], [17, 2], [18, 3], [19, 3], [20, 3], [21, 3], [22, 3], [23, 4], [24, 4], [25, 4], [26, 4], [27, 4], [28, 4], [29, 4], [30, 5], [31, 5], [32, 5], [33, 5], [34, 5]]\n"
     ]
    },
    {
     "data": {
      "text/plain": [
       "[912.0,\n",
       " 912.0,\n",
       " 899.0,\n",
       " 880.0,\n",
       " 693.0,\n",
       " 718.0,\n",
       " 700.0,\n",
       " 673.0,\n",
       " 634.0,\n",
       " 693.0,\n",
       " 602.0,\n",
       " 536.0,\n",
       " 533.0,\n",
       " 524.0,\n",
       " 524.0,\n",
       " 524.0,\n",
       " 524.0,\n",
       " 524.0,\n",
       " 475.0,\n",
       " 475.0,\n",
       " 526.0,\n",
       " 533.0,\n",
       " 500.0,\n",
       " 500.0,\n",
       " 475.0,\n",
       " 518.0,\n",
       " 518.0,\n",
       " 475.0,\n",
       " 475.0,\n",
       " 500.0,\n",
       " 475.0,\n",
       " 475.0,\n",
       " 475.0,\n",
       " 500.0,\n",
       " 475.0]"
      ]
     },
     "execution_count": 51,
     "metadata": {},
     "output_type": "execute_result"
    },
    {
     "data": {
      "image/png": "[encoded data removed]",
      "text/plain": [
       "<matplotlib.figure.Figure at 0xe306c50>"
      ]
     },
     "metadata": {},
     "output_type": "display_data"
    }
   ],
   "source": [
    "X = MinMaxScaler().fit_transform(ff) \n",
    "db = DBSCAN(eps = 0.02, min_samples = 3).fit(X)\n",
    "\n",
    "labels = db.labels_\n",
    "clusters = len(set(labels))\n",
    "unique_labels = set(labels)\n",
    "colors = plt.cm.Spectral(np.linspace(0, 1, len(unique_labels)))\n",
    "\n",
    "plt.subplots(figsize = (12,8))\n",
    "\n",
    "for k,c in zip(unique_labels, colors):\n",
    "    class_member_mask = (labels == k)\n",
    "    xy = X[class_member_mask]\n",
    "    plt.plot(xy[:, 0], xy[:, 1], 'o', markerfacecolor = c, markeredgecolor = 'k',markersize = 14)\n",
    "    \n",
    "    \n",
    "plt.title('Total Clusters: {}'.format(clusters), fontsize = 14, y = 1.01) \n",
    "\n",
    "def calculate_cluster_means(X, labels):\n",
    "    lbls = np.unique(labels)\n",
    "    print \"Cluster labels: {}\".format(np.unique(lbls))\n",
    "\n",
    "    cluster_means = [np.mean(X[labels==num, :], axis=0) for num in range(lbls[-1] + 1)]\n",
    "    print \"Cluster Means: {}\".format(cluster_means)\n",
    "    return cluster_means\n",
    "\n",
    "# Getting outliers and their indexes in dataframe\n",
    "out_ind = []\n",
    "for ind,y in enumerate(X):\n",
    "    if labels[ind]== -1:\n",
    "        out_ind.append([ind,y])\n",
    "# out_ind\n",
    "\n",
    "# Cluster means\n",
    "cluster_means = calculate_cluster_means(X, labels)\n",
    "\n",
    "# Outliers\n",
    "class_member_mask = (labels == -1) \n",
    "outs = X[class_member_mask] \n",
    "# outs\n",
    "\n",
    "\n",
    "# Finding closest cluster for each outlier\n",
    "chosen_list = []\n",
    "\n",
    "for out_index,out in enumerate(outs):    \n",
    "    min_list = []\n",
    "    for index,cm in enumerate(cluster_means):         \n",
    "        min_list.append(euclidean(cm, out))\n",
    "\n",
    "    for inx,abc in enumerate(min_list):\n",
    "        if abc == sorted(min_list)[0]:\n",
    "            chosen_list.append([out_index,inx])\n",
    "\n",
    "outlier_prices = []\n",
    "for i,abc in enumerate(out_ind):\n",
    "    outlier_prices.append(df['Price'][abc[0]])\n",
    "# for chosen in chosen_list:\n",
    "#     outlier_cods = \n",
    "\n",
    "print chosen_list\n",
    "outlier_prices\n",
    "\n",
    "\n",
    "        \n",
    "\n"
   ]
  },
  {
   "cell_type": "code",
   "execution_count": 20,
   "metadata": {
    "collapsed": false
   },
   "outputs": [
    {
     "name": "stdout",
     "output_type": "stream",
     "text": [
      "Cluster labels: [-1  0  1  2  3  4  5]\n",
      "Cluster Means: [array([ 0.27118644,  0.09519451]), array([ 0.38983051,  0.09473684]), array([ 0.49152542,  0.09382151]), array([ 0.60169492,  0.05720824]), array([ 0.81355932,  0.05720824]), array([ 0.93220339,  0.05720824])]\n",
      "[[14, array([ 0.23728814,  0.09610984])], [15, array([ 0.25423729,  0.09610984])], [16, array([ 0.27118644,  0.09610984])], [17, array([ 0.28813559,  0.09382151])], [18, array([ 0.30508475,  0.09382151])]]\n",
      "[517.0, 517.0, 517.0, 516.0, 516.0]\n",
      "516.6\n",
      "1.2\n"
     ]
    },
    {
     "data": {
      "text/plain": [
       "0.4898979485566356"
      ]
     },
     "execution_count": 20,
     "metadata": {},
     "output_type": "execute_result"
    }
   ],
   "source": [
    "#Cluster one \n",
    "def calculate_cluster_means(X, labels):\n",
    "    lbls = np.unique(labels)\n",
    "    print \"Cluster labels: {}\".format(np.unique(lbls))\n",
    "\n",
    "    cluster_means = [np.mean(X[labels==num, :], axis=0) for num in range(lbls[-1] + 1)]\n",
    "    print \"Cluster Means: {}\".format(cluster_means)\n",
    "    return cluster_means\n",
    "\n",
    "# Cluster means\n",
    "cluster_means = calculate_cluster_means(X, labels)\n",
    "\n",
    "# Getting cluster 1 and their indexes in dataframe\n",
    "c1_ind = []\n",
    "for ind,y in enumerate(X):\n",
    "    if labels[ind]== 0:\n",
    "        c1_ind.append([ind,y])\n",
    "# c1_ind\n",
    "\n",
    "# Cluster 1\n",
    "class_member_mask_c1 = (labels == 0) \n",
    "c1 = X[class_member_mask_c1] \n",
    "\n",
    "\n",
    "print c1_ind\n",
    "\n",
    "cluster_one_prices=[]\n",
    "\n",
    "for i,abc in enumerate(c1_ind):\n",
    "    cluster_one_prices.append(df['Price'][abc[0]])\n",
    "    \n",
    "print cluster_one_prices\n",
    "# cluster_one_prices_mean =  reduce(lambda x, y: x + y, cluster_one_prices) / len(cluster_one_prices)\n",
    "# print cluster_one_prices_mean\n",
    "\n",
    "def mean(data):\n",
    "    \"\"\"Return the sample arithmetic mean of data.\"\"\"\n",
    "    n = len(data)\n",
    "    if n < 1:\n",
    "        raise ValueError('mean requires at least one data point')\n",
    "    return sum(data)/n # in Python 2 use sum(data)/float(n)\n",
    "\n",
    "def _ss(data):\n",
    "    \"\"\"Return sum of square deviations of sequence data.\"\"\"\n",
    "    c = mean(data)\n",
    "    ss = sum((x-c)**2 for x in data)\n",
    "    return ss\n",
    "\n",
    "def pstdev(data):\n",
    "    \"\"\"Calculates the population standard deviation.\"\"\"\n",
    "    n = len(data)\n",
    "    if n < 2:\n",
    "        raise ValueError('variance requires at least two data points')\n",
    "    ss = _ss(data)\n",
    "    pvar = ss/n # the population variance\n",
    "    return pvar**0.5\n",
    "print mean(cluster_one_prices)\n",
    "print _ss(cluster_one_prices)\n",
    "pstdev(cluster_one_prices)"
   ]
  },
  {
   "cell_type": "code",
   "execution_count": 21,
   "metadata": {
    "collapsed": false
   },
   "outputs": [
    {
     "name": "stdout",
     "output_type": "stream",
     "text": [
      "[[21, array([ 0.3559322 ,  0.09610984])], [22, array([ 0.37288136,  0.09610984])], [23, array([ 0.38983051,  0.09382151])], [24, array([ 0.40677966,  0.09382151])], [25, array([ 0.42372881,  0.09382151])]]\n",
      "[517.0, 517.0, 516.0, 516.0, 516.0]\n",
      "516.4\n",
      "1.2\n"
     ]
    },
    {
     "data": {
      "text/plain": [
       "0.4898979485566356"
      ]
     },
     "execution_count": 21,
     "metadata": {},
     "output_type": "execute_result"
    }
   ],
   "source": [
    "# Getting cluster 2 and their indexes in dataframe\n",
    "c2_ind = []\n",
    "for ind,y in enumerate(X):\n",
    "    if labels[ind]== 1:\n",
    "        c2_ind.append([ind,y])\n",
    "# c2_ind\n",
    "\n",
    "# Cluster 2\n",
    "class_member_mask_c2 = (labels == 1) \n",
    "c2 = X[class_member_mask_c2] \n",
    "\n",
    "\n",
    "print c2_ind\n",
    "\n",
    "cluster_two_prices=[]\n",
    "\n",
    "for i,abc in enumerate(c2_ind):\n",
    "    cluster_two_prices.append(df['Price'][abc[0]])\n",
    "    \n",
    "print cluster_two_prices\n",
    "# cluster_two_prices_mean =  reduce(lambda x, y: x + y, cluster_one_prices) / len(cluster_one_prices)\n",
    "# print cluster_two_prices_mean\n",
    "\n",
    "def mean(data):\n",
    "    \"\"\"Return the sample arithmetic mean of data.\"\"\"\n",
    "    n = len(data)\n",
    "    if n < 1:\n",
    "        raise ValueError('mean requires at least one data point')\n",
    "    return sum(data)/n # in Python 2 use sum(data)/float(n)\n",
    "\n",
    "def _ss(data):\n",
    "    \"\"\"Return sum of square deviations of sequence data.\"\"\"\n",
    "    c = mean(data)\n",
    "    ss = sum((x-c)**2 for x in data)\n",
    "    return ss\n",
    "\n",
    "def pstdev(data):\n",
    "    \"\"\"Calculates the population standard deviation.\"\"\"\n",
    "    n = len(data)\n",
    "    if n < 2:\n",
    "        raise ValueError('variance requires at least two data points')\n",
    "    ss = _ss(data)\n",
    "    pvar = ss/n # the population variance\n",
    "    return pvar**0.5\n",
    "\n",
    "print mean(cluster_two_prices)\n",
    "print _ss(cluster_two_prices)\n",
    "pstdev(cluster_two_prices)"
   ]
  },
  {
   "cell_type": "code",
   "execution_count": 22,
   "metadata": {
    "collapsed": false
   },
   "outputs": [
    {
     "name": "stdout",
     "output_type": "stream",
     "text": [
      "[[28, array([ 0.47457627,  0.09382151])], [29, array([ 0.49152542,  0.09382151])], [30, array([ 0.50847458,  0.09382151])]]\n",
      "[516.0, 516.0, 516.0]\n",
      "516.0\n",
      "0.0\n"
     ]
    },
    {
     "data": {
      "text/plain": [
       "0.0"
      ]
     },
     "execution_count": 22,
     "metadata": {},
     "output_type": "execute_result"
    }
   ],
   "source": [
    "# Getting cluster 3 and their indexes in dataframe\n",
    "c3_ind = []\n",
    "for ind,y in enumerate(X):\n",
    "    if labels[ind]== 2:\n",
    "        c3_ind.append([ind,y])\n",
    "# c3_ind\n",
    "\n",
    "# Cluster 3\n",
    "class_member_mask_c3 = (labels == 2) \n",
    "c3 = X[class_member_mask_c3] \n",
    "\n",
    "\n",
    "print c3_ind\n",
    "\n",
    "cluster_three_prices=[]\n",
    "\n",
    "for i,abc in enumerate(c3_ind):\n",
    "    cluster_three_prices.append(df['Price'][abc[0]])\n",
    "    \n",
    "print cluster_three_prices\n",
    "# cluster_two_prices_mean =  reduce(lambda x, y: x + y, cluster_one_prices) / len(cluster_one_prices)\n",
    "# print cluster_two_prices_mean\n",
    "\n",
    "def mean(data):\n",
    "    \"\"\"Return the sample arithmetic mean of data.\"\"\"\n",
    "    n = len(data)\n",
    "    if n < 1:\n",
    "        raise ValueError('mean requires at least one data point')\n",
    "    return sum(data)/n # in Python 2 use sum(data)/float(n)\n",
    "\n",
    "def _ss(data):\n",
    "    \"\"\"Return sum of square deviations of sequence data.\"\"\"\n",
    "    c = mean(data)\n",
    "    ss = sum((x-c)**2 for x in data)\n",
    "    return ss\n",
    "\n",
    "def pstdev(data):\n",
    "    \"\"\"Calculates the population standard deviation.\"\"\"\n",
    "    n = len(data)\n",
    "    if n < 2:\n",
    "        raise ValueError('variance requires at least two data points')\n",
    "    ss = _ss(data)\n",
    "    pvar = ss/n # the population variance\n",
    "    return pvar**0.5\n",
    "\n",
    "print mean(cluster_three_prices)\n",
    "print _ss(cluster_three_prices)\n",
    "pstdev(cluster_three_prices)"
   ]
  },
  {
   "cell_type": "code",
   "execution_count": 23,
   "metadata": {
    "collapsed": false
   },
   "outputs": [
    {
     "name": "stdout",
     "output_type": "stream",
     "text": [
      "[[33, array([ 0.55932203,  0.05720824])], [34, array([ 0.57627119,  0.05720824])], [35, array([ 0.59322034,  0.05720824])], [36, array([ 0.61016949,  0.05720824])], [37, array([ 0.62711864,  0.05720824])], [38, array([ 0.6440678 ,  0.05720824])]]\n",
      "[500.0, 500.0, 500.0, 500.0, 500.0, 500.0]\n",
      "500.0\n",
      "0.0\n"
     ]
    },
    {
     "data": {
      "text/plain": [
       "0.0"
      ]
     },
     "execution_count": 23,
     "metadata": {},
     "output_type": "execute_result"
    }
   ],
   "source": [
    "# Getting cluster 4 and their indexes in dataframe\n",
    "c4_ind = []\n",
    "for ind,y in enumerate(X):\n",
    "    if labels[ind]== 3:\n",
    "        c4_ind.append([ind,y])\n",
    "# c3_ind\n",
    "\n",
    "# Cluster 3\n",
    "class_member_mask_c4 = (labels == 4) \n",
    "c4 = X[class_member_mask_c4] \n",
    "\n",
    "\n",
    "print c4_ind\n",
    "\n",
    "cluster_four_prices=[]\n",
    "\n",
    "for i,abc in enumerate(c4_ind):\n",
    "    cluster_four_prices.append(df['Price'][abc[0]])\n",
    "    \n",
    "print cluster_four_prices\n",
    "# cluster_two_prices_mean =  reduce(lambda x, y: x + y, cluster_one_prices) / len(cluster_one_prices)\n",
    "# print cluster_two_prices_mean\n",
    "\n",
    "def mean(data):\n",
    "    \"\"\"Return the sample arithmetic mean of data.\"\"\"\n",
    "    n = len(data)\n",
    "    if n < 1:\n",
    "        raise ValueError('mean requires at least one data point')\n",
    "    return sum(data)/n # in Python 2 use sum(data)/float(n)\n",
    "\n",
    "def _ss(data):\n",
    "    \"\"\"Return sum of square deviations of sequence data.\"\"\"\n",
    "    c = mean(data)\n",
    "    ss = sum((x-c)**2 for x in data)\n",
    "    return ss\n",
    "\n",
    "def pstdev(data):\n",
    "    \"\"\"Calculates the population standard deviation.\"\"\"\n",
    "    n = len(data)\n",
    "    if n < 2:\n",
    "        raise ValueError('variance requires at least two data points')\n",
    "    ss = _ss(data)\n",
    "    pvar = ss/n # the population variance\n",
    "    return pvar**0.5\n",
    "\n",
    "print mean(cluster_four_prices)\n",
    "print _ss(cluster_four_prices)\n",
    "pstdev(cluster_four_prices)"
   ]
  },
  {
   "cell_type": "code",
   "execution_count": 24,
   "metadata": {
    "collapsed": false,
    "scrolled": true
   },
   "outputs": [
    {
     "name": "stdout",
     "output_type": "stream",
     "text": [
      "[[47, array([ 0.79661017,  0.05720824])], [48, array([ 0.81355932,  0.05720824])], [49, array([ 0.83050847,  0.05720824])]]\n",
      "[500.0, 500.0, 500.0]\n",
      "500.0\n",
      "0.0\n"
     ]
    },
    {
     "data": {
      "text/plain": [
       "0.0"
      ]
     },
     "execution_count": 24,
     "metadata": {},
     "output_type": "execute_result"
    }
   ],
   "source": [
    "# Getting cluster 5 and their indexes in dataframe\n",
    "c5_ind = []\n",
    "for ind,y in enumerate(X):\n",
    "    if labels[ind]== 4:\n",
    "        c5_ind.append([ind,y])\n",
    "# c5_ind\n",
    "\n",
    "# Cluster 5\n",
    "class_member_mask_c5 = (labels == 4) \n",
    "c5 = X[class_member_mask_c5] \n",
    "\n",
    "\n",
    "print c5_ind\n",
    "\n",
    "cluster_five_prices=[]\n",
    "\n",
    "for i,abc in enumerate(c5_ind):\n",
    "    cluster_five_prices.append(df['Price'][abc[0]])\n",
    "    \n",
    "print cluster_five_prices\n",
    "# cluster_two_prices_mean =  reduce(lambda x, y: x + y, cluster_one_prices) / len(cluster_one_prices)\n",
    "# print cluster_two_prices_mean\n",
    "\n",
    "def mean(data):\n",
    "    \"\"\"Return the sample arithmetic mean of data.\"\"\"\n",
    "    n = len(data)\n",
    "    if n < 1:\n",
    "        raise ValueError('mean requires at least one data point')\n",
    "    return sum(data)/n # in Python 2 use sum(data)/float(n)\n",
    "\n",
    "def _ss(data):\n",
    "    \"\"\"Return sum of square deviations of sequence data.\"\"\"\n",
    "    c = mean(data)\n",
    "    ss = sum((x-c)**2 for x in data)\n",
    "    return ss\n",
    "\n",
    "def pstdev(data):\n",
    "    \"\"\"Calculates the population standard deviation.\"\"\"\n",
    "    n = len(data)\n",
    "    if n < 2:\n",
    "        raise ValueError('variance requires at least two data points')\n",
    "    ss = _ss(data)\n",
    "    pvar = ss/n # the population variance\n",
    "    return pvar**0.5\n",
    "\n",
    "print mean(cluster_five_prices)\n",
    "print _ss(cluster_five_prices)\n",
    "pstdev(cluster_five_prices)"
   ]
  },
  {
   "cell_type": "code",
   "execution_count": 333,
   "metadata": {
    "collapsed": false
   },
   "outputs": [
    {
     "name": "stdout",
     "output_type": "stream",
     "text": [
      "Cluster labels: [-1  0  1  2  3  4]\n",
      "Cluster Means: [array([ 0.27118644,  0.18814229]), array([ 0.60169492,  0.1541502 ]), array([ 0.69491525,  0.1541502 ]), array([ 0.81355932,  0.1541502 ]), array([ 0.93220339,  0.1541502 ])]\n"
     ]
    },
    {
     "data": {
      "text/plain": [
       "list"
      ]
     },
     "execution_count": 333,
     "metadata": {},
     "output_type": "execute_result"
    }
   ],
   "source": [
    "cluster_means = calculate_cluster_means(X, labels)\n",
    "cluster_means\n",
    "type(cluster_means)"
   ]
  },
  {
   "cell_type": "code",
   "execution_count": 342,
   "metadata": {
    "collapsed": false
   },
   "outputs": [
    {
     "data": {
      "text/plain": [
       "[[0, array([ 0.        ,  0.97628458])],\n",
       " [1, array([ 0.01694915,  1.        ])],\n",
       " [2, array([ 0.03389831,  0.68972332])],\n",
       " [3, array([ 0.05084746,  0.76284585])],\n",
       " [4, array([ 0.06779661,  0.53557312])],\n",
       " [5, array([ 0.08474576,  0.5513834 ])],\n",
       " [6, array([ 0.10169492,  0.56521739])],\n",
       " [7, array([ 0.11864407,  0.48616601])],\n",
       " [8, array([ 0.13559322,  0.48616601])],\n",
       " [9, array([ 0.15254237,  0.        ])],\n",
       " [10, array([ 0.16949153,  0.35375494])],\n",
       " [11, array([ 0.18644068,  0.22529644])],\n",
       " [12, array([ 0.20338983,  0.21936759])],\n",
       " [13, array([ 0.22033898,  0.20158103])],\n",
       " [19, array([ 0.3220339 ,  0.20158103])],\n",
       " [20, array([ 0.33898305,  0.20158103])],\n",
       " [21, array([ 0.3559322 ,  0.18972332])],\n",
       " [22, array([ 0.37288136,  0.18972332])],\n",
       " [23, array([ 0.38983051,  0.2055336 ])],\n",
       " [24, array([ 0.40677966,  0.18577075])],\n",
       " [25, array([ 0.42372881,  0.18577075])],\n",
       " [26, array([ 0.44067797,  0.20158103])],\n",
       " [27, array([ 0.45762712,  0.20158103])],\n",
       " [28, array([ 0.47457627,  0.18577075])],\n",
       " [29, array([ 0.49152542,  0.18577075])],\n",
       " [30, array([ 0.50847458,  0.1541502 ])],\n",
       " [31, array([ 0.52542373,  0.10474308])],\n",
       " [32, array([ 0.54237288,  0.10474308])],\n",
       " [39, array([ 0.66101695,  0.10474308])],\n",
       " [43, array([ 0.72881356,  0.10474308])],\n",
       " [44, array([ 0.74576271,  0.18972332])],\n",
       " [45, array([ 0.76271186,  0.18972332])],\n",
       " [46, array([ 0.77966102,  0.10474308])],\n",
       " [50, array([ 0.84745763,  0.10474308])],\n",
       " [51, array([ 0.86440678,  0.1541502 ])],\n",
       " [52, array([ 0.88135593,  0.10474308])],\n",
       " [53, array([ 0.89830508,  0.10474308])],\n",
       " [57, array([ 0.96610169,  0.10474308])],\n",
       " [58, array([ 0.98305085,  0.1541502 ])],\n",
       " [59, array([ 1.        ,  0.10474308])]]"
      ]
     },
     "execution_count": 342,
     "metadata": {},
     "output_type": "execute_result"
    }
   ],
   "source": [
    "out_ind = []\n",
    "for ind,y in enumerate(X):\n",
    "    if labels[ind]== -1:\n",
    "        out_ind.append([ind,y])\n",
    "out_ind\n",
    "\n",
    "# labels[0] == -1"
   ]
  },
  {
   "cell_type": "code",
   "execution_count": 303,
   "metadata": {
    "collapsed": false
   },
   "outputs": [
    {
     "data": {
      "text/plain": [
       "array([ 0.27118644,  0.18814229])"
      ]
     },
     "execution_count": 303,
     "metadata": {},
     "output_type": "execute_result"
    }
   ],
   "source": [
    "l[0]"
   ]
  },
  {
   "cell_type": "code",
   "execution_count": 275,
   "metadata": {
    "collapsed": false
   },
   "outputs": [
    {
     "name": "stdout",
     "output_type": "stream",
     "text": [
      "Cluster labels: [-1  0  1  2  3  4]\n",
      "Cluster Means: [array([ 0.08474576,  0.55072464]), array([ 0.34745763,  0.1937747 ]), array([ 0.70056497,  0.15889328]), array([ 0.87570621,  0.10474308]), array([ 0.94491525,  0.1541502 ])]\n",
      "Euclidean distance: [0.5803597108203703, 0.1658208653472119, 0.1921489444991359, 0.3705403341483163, 0.43644067796610175]\n"
     ]
    }
   ],
   "source": [
    "from scipy.spatial.distance import euclidean, chebyshev, cityblock\n",
    "\n",
    "# get the distances to each clusters\n",
    "labels = db.labels_\n",
    "lbls = np.unique(db.labels_)\n",
    "print \"Cluster labels: {}\".format(np.unique(lbls))\n",
    "\n",
    "cluster_means = [np.mean(X[labels==num, :], axis=0) for num in range(lbls[-1] + 1)]\n",
    "print \"Cluster Means: {}\".format(cluster_means)\n",
    "\n",
    "noise_point = X[30, :]\n",
    "\n",
    "# euclidean\n",
    "dist = [euclidean(noise_point, cm) for cm in cluster_means]\n",
    "print \"Euclidean distance: {}\".format(dist)\n",
    "\n",
    "# chebyshev\n",
    "# dist = [chebyshev(noise_point, cm) for cm in cluster_means]\n",
    "# print \"Chebysev distance: {}\".format(dist)\n",
    "\n",
    "# cityblock\n",
    "# dist = [cityblock(noise_point, cm) for cm in cluster_means]\n",
    "# print \"Cityblock (Manhattan) distance: {}\".format(dist)"
   ]
  },
  {
   "cell_type": "code",
   "execution_count": 284,
   "metadata": {
    "collapsed": false
   },
   "outputs": [
    {
     "data": {
      "text/plain": [
       "<matplotlib.text.Text at 0x1a1f2e10>"
      ]
     },
     "execution_count": 284,
     "metadata": {},
     "output_type": "execute_result"
    },
    {
     "data": {
      "image/png": "[encoded data removed]",
      "text/plain": [
       "<matplotlib.figure.Figure at 0x178c1eb8>"
      ]
     },
     "metadata": {},
     "output_type": "display_data"
    }
   ],
   "source": [
    "db = DBSCAN(eps=0.1, min_samples=5).fit(X)\n",
    "\n",
    "# shamelessly copied code below ;)\n",
    "labels = db.labels_\n",
    "clusters = len(set(labels))\n",
    "unique_labels = set(labels)\n",
    "colors = plt.cm.Spectral(np.linspace(0, 1, len(unique_labels)))\n",
    " \n",
    "plt.subplots(figsize=(12,8))\n",
    " \n",
    "for k, c in zip(unique_labels, colors):\n",
    "    class_member_mask = (labels == -1)\n",
    "    xy = X[class_member_mask]\n",
    "    plt.plot(xy[:, 0], xy[:, 1], 'o', markerfacecolor=c,\n",
    "            markeredgecolor='k', markersize=14)\n",
    " \n",
    "plt.title(\"Total Clusters: {}\".format(clusters), fontsize=14,\n",
    "        y=1.01)"
   ]
  },
  {
   "cell_type": "code",
   "execution_count": 285,
   "metadata": {
    "collapsed": false
   },
   "outputs": [
    {
     "data": {
      "text/plain": [
       "array([-1, -1, -1, -1,  0,  0,  0,  0,  0, -1, -1,  1,  1,  1,  1,  1,  1,\n",
       "        1,  1,  1,  1,  1,  1,  1,  1,  1,  1,  1,  1,  1,  1,  1,  1,  1,\n",
       "        1,  1,  1,  1,  1,  1,  1,  1,  1,  1,  1,  1,  1,  1,  1,  1,  1,\n",
       "        1,  1,  1,  1,  1,  1,  1,  1,  1], dtype=int64)"
      ]
     },
     "execution_count": 285,
     "metadata": {},
     "output_type": "execute_result"
    }
   ],
   "source": [
    "labels"
   ]
  },
  {
   "cell_type": "code",
   "execution_count": 286,
   "metadata": {
    "collapsed": false,
    "scrolled": true
   },
   "outputs": [
    {
     "data": {
      "text/plain": [
       "array([[ 0.        ,  0.97628458],\n",
       "       [ 0.01694915,  1.        ],\n",
       "       [ 0.03389831,  0.68972332],\n",
       "       [ 0.05084746,  0.76284585],\n",
       "       [ 0.15254237,  0.        ],\n",
       "       [ 0.16949153,  0.35375494]])"
      ]
     },
     "execution_count": 286,
     "metadata": {},
     "output_type": "execute_result"
    }
   ],
   "source": [
    "class_member_mask = (labels == -1)\n",
    "xy = X[class_member_mask]\n",
    "xy"
   ]
  },
  {
   "cell_type": "code",
   "execution_count": 287,
   "metadata": {
    "collapsed": false
   },
   "outputs": [
    {
     "data": {
      "text/plain": [
       "[array([ 0.08474576,  0.55072464]),\n",
       " array([ 0.34745763,  0.1937747 ]),\n",
       " array([ 0.70056497,  0.15889328]),\n",
       " array([ 0.87570621,  0.10474308]),\n",
       " array([ 0.94491525,  0.1541502 ])]"
      ]
     },
     "execution_count": 287,
     "metadata": {},
     "output_type": "execute_result"
    }
   ],
   "source": [
    "cluster_means"
   ]
  },
  {
   "cell_type": "code",
   "execution_count": 295,
   "metadata": {
    "collapsed": false,
    "scrolled": false
   },
   "outputs": [
    {
     "name": "stdout",
     "output_type": "stream",
     "text": [
      "Euclidean distance: [0.43391602072614166, 0.454361894900089, 0.14800708657854106, 0.21481271777851232, 0.554881975648442, 0.21442692420018034, 0.8561825256143917, 0.8713409667809917, 0.5867575979419404, 0.6417316901435187, 0.2748464881949756, 0.23930233937925266, 1.0765313855473502, 1.0838778075217492, 0.8521883449726896, 0.8870690807185468, 0.570592537194819, 0.5656943273209718, 1.2354942185669993, 1.2405436869439261, 1.0251060601389776, 1.055220934577136, 0.7307099667689966, 0.7488298155210994, 1.2525054046017539, 1.2556205533786207, 1.0567830672467076, 1.0816041891148485, 0.807228013969532, 0.800702199739926]\n"
     ]
    }
   ],
   "source": [
    "# list=[]\n",
    "dist1 = [(euclidean(cm, i)) for cm in cluster_means for i in xy ]\n",
    "print \"Euclidean distance: {}\".format(dist1)"
   ]
  },
  {
   "cell_type": "code",
   "execution_count": 294,
   "metadata": {
    "collapsed": false
   },
   "outputs": [
    {
     "data": {
      "text/plain": [
       "[0.43391602072614166,\n",
       " 0.454361894900089,\n",
       " 0.14800708657854106,\n",
       " 0.21481271777851232,\n",
       " 0.554881975648442,\n",
       " 0.21442692420018034,\n",
       " 0.8561825256143917,\n",
       " 0.8713409667809917,\n",
       " 0.5867575979419404,\n",
       " 0.6417316901435187,\n",
       " 0.2748464881949756,\n",
       " 0.23930233937925266,\n",
       " 1.0765313855473502,\n",
       " 1.0838778075217492,\n",
       " 0.8521883449726896,\n",
       " 0.8870690807185468,\n",
       " 0.570592537194819,\n",
       " 0.5656943273209718,\n",
       " 1.2354942185669993,\n",
       " 1.2405436869439261,\n",
       " 1.0251060601389776,\n",
       " 1.055220934577136,\n",
       " 0.7307099667689966,\n",
       " 0.7488298155210994,\n",
       " 1.2525054046017539,\n",
       " 1.2556205533786207,\n",
       " 1.0567830672467076,\n",
       " 1.0816041891148485,\n",
       " 0.807228013969532,\n",
       " 0.800702199739926]"
      ]
     },
     "execution_count": 294,
     "metadata": {},
     "output_type": "execute_result"
    }
   ],
   "source": [
    "dist1"
   ]
  },
  {
   "cell_type": "code",
   "execution_count": 291,
   "metadata": {
    "collapsed": false,
    "scrolled": true
   },
   "outputs": [
    {
     "data": {
      "text/plain": [
       "0.43391602072614166"
      ]
     },
     "execution_count": 291,
     "metadata": {},
     "output_type": "execute_result"
    }
   ],
   "source": [
    "list[0]"
   ]
  },
  {
   "cell_type": "code",
   "execution_count": 167,
   "metadata": {
    "collapsed": false
   },
   "outputs": [],
   "source": [
    "# dist2 = [euclidean(xy[1], cm) for cm in cluster_means]\n",
    "# print \"Euclidean distance: {}\".format(dist)"
   ]
  },
  {
   "cell_type": "code",
   "execution_count": 168,
   "metadata": {
    "collapsed": false
   },
   "outputs": [],
   "source": [
    "# dist2 = [euclidean(xy[2], cm) for cm in cluster_means]\n",
    "# print \"Euclidean distance: {}\".format(dist)"
   ]
  },
  {
   "cell_type": "code",
   "execution_count": 169,
   "metadata": {
    "collapsed": false
   },
   "outputs": [],
   "source": [
    "# dist3 = [euclidean(xy[3], cm) for cm in cluster_means]\n",
    "# print \"Euclidean distance: {}\".format(dist)"
   ]
  },
  {
   "cell_type": "code",
   "execution_count": 170,
   "metadata": {
    "collapsed": false
   },
   "outputs": [],
   "source": [
    "# dist4 = [euclidean(xy[4], cm) for cm in cluster_means]\n",
    "# print \"Euclidean distance: {}\".format(dist)"
   ]
  },
  {
   "cell_type": "code",
   "execution_count": 171,
   "metadata": {
    "collapsed": true
   },
   "outputs": [],
   "source": [
    "# db = DBSCAN(eps=0.2, min_samples=5).fit(X)\n",
    "\n",
    "# # shamelessly copied code below ;)\n",
    "# labels = db.labels_\n",
    "# clusters = len(set(labels))\n",
    "# unique_labels = set(labels)\n",
    "# colors = plt.cm.Spectral(np.linspace(0, 1, len(unique_labels)))\n",
    " \n",
    "# plt.subplots(figsize=(12,8))\n",
    " \n",
    "# for k, c in zip(unique_labels, colors):\n",
    "#     class_member_mask = (labels == k)\n",
    "#     xy = X[class_member_mask]\n",
    "#     plt.plot(xy[:, 0], xy[:, 1], 'o', markerfacecolor=c,\n",
    "#             markeredgecolor='k', markersize=14)\n",
    " \n",
    "# plt.title(\"Total Clusters: {}\".format(clusters), fontsize=14,\n",
    "#         y=1.01)"
   ]
  },
  {
   "cell_type": "code",
   "execution_count": 261,
   "metadata": {
    "collapsed": false
   },
   "outputs": [
    {
     "data": {
      "text/plain": [
       "[array([ 0.10169492,  0.52490119]), array([ 0.59322034,  0.16169234])]"
      ]
     },
     "execution_count": 261,
     "metadata": {},
     "output_type": "execute_result"
    }
   ],
   "source": [
    "cluster_means"
   ]
  },
  {
   "cell_type": "code",
   "execution_count": 225,
   "metadata": {
    "collapsed": false,
    "scrolled": true
   },
   "outputs": [
    {
     "data": {
      "text/plain": [
       "array([False, False,  True,  True,  True,  True,  True, False, False,\n",
       "        True, False, False, False, False, False, False, False, False,\n",
       "       False, False, False, False, False, False, False, False, False,\n",
       "       False, False, False, False, False, False, False, False, False,\n",
       "       False, False, False, False, False, False, False, False, False,\n",
       "       False, False, False, False, False, False, False, False, False,\n",
       "       False, False, False, False, False, False], dtype=bool)"
      ]
     },
     "execution_count": 225,
     "metadata": {},
     "output_type": "execute_result"
    }
   ],
   "source": [
    "class_member_mask"
   ]
  },
  {
   "cell_type": "code",
   "execution_count": 30,
   "metadata": {
    "collapsed": false
   },
   "outputs": [],
   "source": [
    "import numpy as np\n",
    "\n",
    "from sklearn.cluster import DBSCAN\n",
    "from sklearn import metrics\n",
    "from sklearn.datasets.samples_generator import make_blobs\n",
    "from sklearn.preprocessing import StandardScaler"
   ]
  },
  {
   "cell_type": "code",
   "execution_count": 32,
   "metadata": {
    "collapsed": false
   },
   "outputs": [],
   "source": [
    "# X_std = (X - X.min(axis=0)) / (X.max(axis=0) - X.min(axis=0))\n",
    "# X_scaled = X_std * (max - min) + min"
   ]
  },
  {
   "cell_type": "code",
   "execution_count": 32,
   "metadata": {
    "collapsed": false
   },
   "outputs": [
    {
     "name": "stdout",
     "output_type": "stream",
     "text": [
      "[array([ 0.08474576,  0.64553991]), array([ 0.34745763,  0.22206573]), array([ 0.61864407,  0.19571596]), array([ 0.82627119,  0.18309859]), array([ 0.87570621,  0.12441315]), array([ 0.94491525,  0.18309859])]\n"
     ]
    }
   ],
   "source": [
    "print cluster_means\n"
   ]
  },
  {
   "cell_type": "code",
   "execution_count": 296,
   "metadata": {
    "collapsed": true
   },
   "outputs": [],
   "source": [
    "# let's create some helper functions\n",
    "def calculate_cluster_means(X, labels):\n",
    "    lbls = np.unique(labels)\n",
    "    print \"Cluster labels: {}\".format(np.unique(lbls))\n",
    "\n",
    "    cluster_means = [np.mean(X[labels==num, :], axis=0) for num in range(lbls[-1] + 1)]\n",
    "    print \"Cluster Means: {}\".format(cluster_means)\n",
    "    return cluster_means\n",
    "    \n",
    "def print_3_distances(noise_point, cluster_means):\n",
    "    # euclidean\n",
    "    dist = [euclidean(noise_point, cm) for cm in cluster_means]\n",
    "    print \"Euclidean distance: {}\".format(dist)\n",
    "\n",
    "#     # chebyshev\n",
    "#     dist = [chebyshev(noise_point, cm) for cm in cluster_means]\n",
    "#     print \"Chebysev distance: {}\".format(dist)\n",
    "\n",
    "#     # cityblock\n",
    "#     dist = [cityblock(noise_point, cm) for cm in cluster_means]\n",
    "#     print \"Cityblock (Manhattan) distance: {}\".format(dist)\n",
    "    \n",
    "def plot_the_clusters(X, dbscan_model, noise_point=None):\n",
    "    labels = dbscan_model.labels_\n",
    "    clusters = len(set(labels))\n",
    "    unique_labels = set(labels)\n",
    "    colors = plt.cm.Spectral(np.linspace(0, 1, len(unique_labels)))\n",
    "\n",
    "    plt.subplots(figsize=(12,8))\n",
    "\n",
    "    for k, c in zip(unique_labels, colors):\n",
    "        class_member_mask = (labels == k)\n",
    "        xy = X[class_member_mask]\n",
    "        plt.plot(xy[:, 0], xy[:, 1], 'o', markerfacecolor=c,\n",
    "                markeredgecolor='k', markersize=14)\n",
    "        \n",
    "    if noise_point is not None:\n",
    "        plt.plot(noise_point[0], noise_point[1], 'xr')\n",
    "\n",
    "    plt.title(\"Total Clusters: {}\".format(clusters), fontsize=14, y=1.01)\n",
    "    \n",
    "def do_yo_thang(X, dbscan_model, noise_point):\n",
    "    cluster_means = calculate_cluster_means(X, dbscan_model.labels_)\n",
    "    print_3_distances(noise_point, cluster_means)\n",
    "    plot_the_clusters(X, dbscan_model, noise_point)"
   ]
  },
  {
   "cell_type": "code",
   "execution_count": 297,
   "metadata": {
    "collapsed": false
   },
   "outputs": [
    {
     "name": "stdout",
     "output_type": "stream",
     "text": [
      "Cluster labels: [-1  0  1]\n",
      "Cluster Means: [array([ 0.10169492,  0.52490119]), array([ 0.59322034,  0.16169234])]\n"
     ]
    },
    {
     "data": {
      "text/plain": [
       "[array([ 0.10169492,  0.52490119]), array([ 0.59322034,  0.16169234])]"
      ]
     },
     "execution_count": 297,
     "metadata": {},
     "output_type": "execute_result"
    }
   ],
   "source": [
    "calculate_cluster_means(X, labels)"
   ]
  },
  {
   "cell_type": "code",
   "execution_count": 204,
   "metadata": {
    "collapsed": false
   },
   "outputs": [
    {
     "name": "stdout",
     "output_type": "stream",
     "text": [
      "Euclidean distance: [0.5522546781102815, 0.08544770676062793]\n"
     ]
    }
   ],
   "source": [
    "print_3_distances(noise_point, cluster_means)"
   ]
  },
  {
   "cell_type": "code",
   "execution_count": 207,
   "metadata": {
    "collapsed": false
   },
   "outputs": [
    {
     "data": {
      "image/png": "[encoded data removed]",
      "text/plain": [
       "<matplotlib.figure.Figure at 0x17541dd8>"
      ]
     },
     "metadata": {},
     "output_type": "display_data"
    }
   ],
   "source": [
    "plot_the_clusters(X, db_ss, noise_point=None)"
   ]
  },
  {
   "cell_type": "code",
   "execution_count": 208,
   "metadata": {
    "collapsed": false
   },
   "outputs": [
    {
     "name": "stdout",
     "output_type": "stream",
     "text": [
      "Cluster labels: [-1  0  1]\n",
      "Cluster Means: [array([-1.35696161,  1.42271556]), array([ 0.31758676, -0.38201884])]\n",
      "Euclidean distance: [2.318819826099805, 0.29379614525316206]\n"
     ]
    },
    {
     "data": {
      "image/png": "[encoded data removed]",
      "text/plain": [
       "<matplotlib.figure.Figure at 0x17a68f28>"
      ]
     },
     "metadata": {},
     "output_type": "display_data"
    }
   ],
   "source": [
    "X_ss = StandardScaler().fit_transform(X)\n",
    "db_ss = DBSCAN(eps=0.4, min_samples=3).fit(X_ss)\n",
    "noise_point = X_ss[30, :]\n",
    "do_yo_thang(X_ss, db_ss, noise_point)"
   ]
  },
  {
   "cell_type": "code",
   "execution_count": 209,
   "metadata": {
    "collapsed": true
   },
   "outputs": [],
   "source": [
    "import matplotlib.pyplot as plt\n",
    "import numpy as np\n",
    "import scipy as sp\n",
    "\n",
    "from sklearn.preprocessing import MinMaxScaler, RobustScaler, StandardScaler, MaxAbsScaler\n",
    "from sklearn.cluster import DBSCAN\n",
    "\n",
    "%matplotlib inline"
   ]
  },
  {
   "cell_type": "code",
   "execution_count": 206,
   "metadata": {
    "collapsed": false
   },
   "outputs": [
    {
     "ename": "NameError",
     "evalue": "global name 'Prices' is not defined",
     "output_type": "error",
     "traceback": [
      "\u001b[0;31m---------------------------------------------------------------------------\u001b[0m",
      "\u001b[0;31mNameError\u001b[0m                                 Traceback (most recent call last)",
      "\u001b[0;32m<ipython-input-206-6fe1bc930a67>\u001b[0m in \u001b[0;36m<module>\u001b[0;34m()\u001b[0m\n\u001b[1;32m      8\u001b[0m \u001b[1;31m# MinMaxScaler(feature_range=(-4,4)).fit_transform(days[:, None])\u001b[0m\u001b[1;33m\u001b[0m\u001b[1;33m\u001b[0m\u001b[0m\n\u001b[1;32m      9\u001b[0m \u001b[1;33m\u001b[0m\u001b[0m\n\u001b[0;32m---> 10\u001b[0;31m \u001b[0mX_ssmm4\u001b[0m \u001b[1;33m=\u001b[0m \u001b[0mmakeX\u001b[0m\u001b[1;33m(\u001b[0m\u001b[0mprices_rob\u001b[0m\u001b[1;33m)\u001b[0m\u001b[1;33m\u001b[0m\u001b[0m\n\u001b[0m\u001b[1;32m     11\u001b[0m \u001b[0mdb\u001b[0m \u001b[1;33m=\u001b[0m \u001b[0mDBSCAN\u001b[0m\u001b[1;33m(\u001b[0m\u001b[0meps\u001b[0m\u001b[1;33m=\u001b[0m\u001b[1;36m0.6\u001b[0m\u001b[1;33m,\u001b[0m \u001b[0mmin_samples\u001b[0m\u001b[1;33m=\u001b[0m\u001b[1;36m5\u001b[0m\u001b[1;33m)\u001b[0m\u001b[1;33m.\u001b[0m\u001b[0mfit\u001b[0m\u001b[1;33m(\u001b[0m\u001b[0mX_ssmm4\u001b[0m\u001b[1;33m)\u001b[0m\u001b[1;33m\u001b[0m\u001b[0m\n\u001b[1;32m     12\u001b[0m \u001b[1;31m# show with X_ss again\u001b[0m\u001b[1;33m\u001b[0m\u001b[1;33m\u001b[0m\u001b[0m\n",
      "\u001b[0;32m<ipython-input-206-6fe1bc930a67>\u001b[0m in \u001b[0;36mmakeX\u001b[0;34m(prices)\u001b[0m\n\u001b[1;32m      1\u001b[0m \u001b[1;32mdef\u001b[0m \u001b[0mmakeX\u001b[0m\u001b[1;33m(\u001b[0m\u001b[0mprices\u001b[0m\u001b[1;33m)\u001b[0m\u001b[1;33m:\u001b[0m\u001b[1;33m\u001b[0m\u001b[0m\n\u001b[0;32m----> 2\u001b[0;31m     \u001b[1;32mreturn\u001b[0m \u001b[0mnp\u001b[0m\u001b[1;33m.\u001b[0m\u001b[0mconcatenate\u001b[0m\u001b[1;33m(\u001b[0m\u001b[0mdf\u001b[0m\u001b[1;33m[\u001b[0m\u001b[0mPrices\u001b[0m\u001b[1;33m]\u001b[0m\u001b[1;33m,\u001b[0m \u001b[0maxis\u001b[0m\u001b[1;33m=\u001b[0m\u001b[1;36m1\u001b[0m\u001b[1;33m)\u001b[0m\u001b[1;33m\u001b[0m\u001b[0m\n\u001b[0m\u001b[1;32m      3\u001b[0m \u001b[1;33m\u001b[0m\u001b[0m\n\u001b[1;32m      4\u001b[0m \u001b[0mprices_ss\u001b[0m \u001b[1;33m=\u001b[0m \u001b[0mStandardScaler\u001b[0m\u001b[1;33m(\u001b[0m\u001b[1;33m)\u001b[0m\u001b[1;33m.\u001b[0m\u001b[0mfit_transform\u001b[0m\u001b[1;33m(\u001b[0m\u001b[0mnoise_point\u001b[0m\u001b[1;33m[\u001b[0m\u001b[1;33m:\u001b[0m\u001b[1;33m,\u001b[0m \u001b[0mNone\u001b[0m\u001b[1;33m]\u001b[0m\u001b[1;33m)\u001b[0m\u001b[1;33m\u001b[0m\u001b[0m\n\u001b[1;32m      5\u001b[0m \u001b[0mprices_rob\u001b[0m \u001b[1;33m=\u001b[0m \u001b[0mRobustScaler\u001b[0m\u001b[1;33m(\u001b[0m\u001b[1;33m)\u001b[0m\u001b[1;33m.\u001b[0m\u001b[0mfit_transform\u001b[0m\u001b[1;33m(\u001b[0m\u001b[0mnoise_point\u001b[0m\u001b[1;33m[\u001b[0m\u001b[1;33m:\u001b[0m\u001b[1;33m,\u001b[0m \u001b[0mNone\u001b[0m\u001b[1;33m]\u001b[0m\u001b[1;33m)\u001b[0m\u001b[1;33m\u001b[0m\u001b[0m\n",
      "\u001b[0;31mNameError\u001b[0m: global name 'Prices' is not defined"
     ]
    }
   ],
   "source": [
    "def makeX(prices):\n",
    "    return np.concatenate(df[Prices], axis=1)\n",
    "\n",
    "prices_ss = StandardScaler().fit_transform(noise_point[:, None])\n",
    "prices_rob = RobustScaler().fit_transform(noise_point[:, None])\n",
    "\n",
    "days_mm4 = X_scaled\n",
    "# MinMaxScaler(feature_range=(-4,4)).fit_transform(days[:, None])\n",
    "\n",
    "X_ssmm4 = makeX(prices_rob)\n",
    "db = DBSCAN(eps=0.6, min_samples=5).fit(X_ssmm4)\n",
    "# show with X_ss again\n",
    "\n",
    "noise_point = X_ssmm4[30, :]\n",
    "do_yo_thang(X_ssmm4, db, noise_point)\n",
    "for index, xy in enumerate(zip(days_mm4, prices_ss)):\n",
    "    plt.annotate('{}: ({:0.2f}, {:0.2f})'.format(index, xy[0][0], xy[1][0]), xytext=(xy[0]-0.45, xy[1]-0.15), xy=xy)"
   ]
  },
  {
   "cell_type": "code",
   "execution_count": 147,
   "metadata": {
    "collapsed": false
   },
   "outputs": [
    {
     "ename": "NameError",
     "evalue": "name 'distance' is not defined",
     "output_type": "error",
     "traceback": [
      "\u001b[0;31m---------------------------------------------------------------------------\u001b[0m",
      "\u001b[0;31mNameError\u001b[0m                                 Traceback (most recent call last)",
      "\u001b[0;32m<ipython-input-147-1f26c2a5863e>\u001b[0m in \u001b[0;36m<module>\u001b[0;34m()\u001b[0m\n\u001b[0;32m----> 1\u001b[0;31m \u001b[0mD\u001b[0m \u001b[1;33m=\u001b[0m \u001b[0mdistance\u001b[0m\u001b[1;33m.\u001b[0m\u001b[0msquareform\u001b[0m\u001b[1;33m(\u001b[0m\u001b[0mdistance\u001b[0m\u001b[1;33m.\u001b[0m\u001b[0mpdist\u001b[0m\u001b[1;33m(\u001b[0m\u001b[0mX\u001b[0m\u001b[1;33m)\u001b[0m\u001b[1;33m)\u001b[0m\u001b[1;33m\u001b[0m\u001b[0m\n\u001b[0m\u001b[1;32m      2\u001b[0m \u001b[0mS\u001b[0m \u001b[1;33m=\u001b[0m \u001b[0mnp\u001b[0m\u001b[1;33m.\u001b[0m\u001b[0mmax\u001b[0m\u001b[1;33m(\u001b[0m\u001b[0mD\u001b[0m\u001b[1;33m)\u001b[0m \u001b[1;33m-\u001b[0m \u001b[0mD\u001b[0m\u001b[1;33m\u001b[0m\u001b[0m\n\u001b[1;32m      3\u001b[0m \u001b[0mdb\u001b[0m \u001b[1;33m=\u001b[0m \u001b[0mDBSCAN\u001b[0m\u001b[1;33m(\u001b[0m\u001b[0meps\u001b[0m\u001b[1;33m=\u001b[0m\u001b[1;36m0.5\u001b[0m \u001b[1;33m*\u001b[0m \u001b[0mnp\u001b[0m\u001b[1;33m.\u001b[0m\u001b[0mmax\u001b[0m\u001b[1;33m(\u001b[0m\u001b[0mD\u001b[0m\u001b[1;33m)\u001b[0m\u001b[1;33m,\u001b[0m \u001b[0mmin_samples\u001b[0m\u001b[1;33m=\u001b[0m\u001b[1;36m10\u001b[0m\u001b[1;33m)\u001b[0m\u001b[1;33m.\u001b[0m\u001b[0mfit\u001b[0m\u001b[1;33m(\u001b[0m\u001b[0mS\u001b[0m\u001b[1;33m)\u001b[0m\u001b[1;33m\u001b[0m\u001b[0m\n",
      "\u001b[0;31mNameError\u001b[0m: name 'distance' is not defined"
     ]
    }
   ],
   "source": [
    "D = distance.squareform(distance.pdist(X))\n",
    "S = np.max(D) - D\n",
    "db = DBSCAN(eps=0.5 * np.max(D), min_samples=10).fit(S)"
   ]
  },
  {
   "cell_type": "code",
   "execution_count": null,
   "metadata": {
    "collapsed": true
   },
   "outputs": [],
   "source": []
  },
  {
   "cell_type": "code",
   "execution_count": null,
   "metadata": {
    "collapsed": true
   },
   "outputs": [],
   "source": []
  },
  {
   "cell_type": "code",
   "execution_count": null,
   "metadata": {
    "collapsed": true
   },
   "outputs": [],
   "source": []
  },
  {
   "cell_type": "code",
   "execution_count": 74,
   "metadata": {
    "collapsed": false
   },
   "outputs": [
    {
     "name": "stdout",
     "output_type": "stream",
     "text": [
      "3\n"
     ]
    }
   ],
   "source": [
    "# db = DBSCAN(eps=0.2, min_samples=5).fit(X)\n",
    "# core_samples = db.core_sample_indices_\n",
    "# labels = db.labels_\n",
    "# n_clusters_ = len(set(labels)) - (1 if -1 in labels else 0)\n",
    "# print n_clusters_\n"
   ]
  },
  {
   "cell_type": "code",
   "execution_count": 69,
   "metadata": {
    "collapsed": true
   },
   "outputs": [],
   "source": [
    "clusters = [X[labels == i] for i in xrange(n_clusters_)]"
   ]
  },
  {
   "cell_type": "code",
   "execution_count": 70,
   "metadata": {
    "collapsed": true
   },
   "outputs": [
    {
     "data": {
      "text/plain": [
       "[array([[-1.25100281, -0.74339331],\n",
       "        [-1.21251041, -0.74339331],\n",
       "        [-1.17401802, -0.74339331],\n",
       "        [-1.09703323, -0.74339331],\n",
       "        [-1.05854084, -0.74339331],\n",
       "        [-1.02004844, -0.74339331],\n",
       "        [-0.98155605, -0.74339331],\n",
       "        [-0.94306366, -0.74339331],\n",
       "        [-0.90457126, -0.74339331],\n",
       "        [-0.82758647, -0.74339331],\n",
       "        [-0.78909408, -0.74339331],\n",
       "        [-0.75060168, -0.74339331],\n",
       "        [-0.71210929, -0.74339331],\n",
       "        [-0.6736169 , -0.74339331],\n",
       "        [-0.6351245 , -0.74339331],\n",
       "        [-0.55813971, -0.74339331],\n",
       "        [-0.51964732, -0.74339331],\n",
       "        [-0.48115493, -0.74339331],\n",
       "        [-0.44266253, -0.74339331],\n",
       "        [-0.40417014, -0.74339331],\n",
       "        [-0.36567774, -0.74339331]]), array([[ 0.0192462 , -0.36630975],\n",
       "        [ 0.05773859, -0.36630975],\n",
       "        [ 0.09623099, -0.36630975],\n",
       "        [ 0.13472338, -0.36630975],\n",
       "        [ 0.17321577, -0.36630975],\n",
       "        [ 0.32718535, -0.36630975],\n",
       "        [ 0.36567774, -0.36630975],\n",
       "        [ 0.40417014, -0.36630975],\n",
       "        [ 0.44266253, -0.36630975],\n",
       "        [ 0.55813971, -0.36630975],\n",
       "        [ 0.59663211, -0.36630975],\n",
       "        [ 0.71210929, -0.36630975],\n",
       "        [ 0.78909408, -0.36630975],\n",
       "        [ 0.86607887, -0.36630975],\n",
       "        [ 0.98155605, -0.36630975]]), array([[ 0.90457126,  0.17238106],\n",
       "        [ 1.09703323,  0.17238106],\n",
       "        [ 1.13552563,  0.17238106],\n",
       "        [ 1.17401802,  0.17238106],\n",
       "        [ 1.21251041,  0.17238106],\n",
       "        [ 1.40497238,  0.17238106]])]"
      ]
     },
     "execution_count": 70,
     "metadata": {},
     "output_type": "execute_result"
    }
   ],
   "source": [
    "clusters"
   ]
  },
  {
   "cell_type": "code",
   "execution_count": 71,
   "metadata": {
    "collapsed": true
   },
   "outputs": [],
   "source": [
    "outliers = X[labels == -1]"
   ]
  },
  {
   "cell_type": "code",
   "execution_count": 72,
   "metadata": {
    "collapsed": true
   },
   "outputs": [
    {
     "data": {
      "text/plain": [
       "array([[-1.71291154, -0.36630975],\n",
       "       [-1.67441914,  5.50542003],\n",
       "       [-1.63592675,  4.58964566],\n",
       "       [-1.59743435,  2.70422784],\n",
       "       [-1.55894196,  1.41136991],\n",
       "       [-1.52044957, -0.36630975],\n",
       "       [-1.48195717, -0.36630975],\n",
       "       [-1.44346478, -0.52791699],\n",
       "       [-1.40497238,  2.70422784],\n",
       "       [-1.36647999, -0.09696434],\n",
       "       [-1.3279876 , -0.52791699],\n",
       "       [-1.2894952 , -0.36630975],\n",
       "       [-1.13552563,  0.3339883 ],\n",
       "       [-0.86607887,  0.3339883 ],\n",
       "       [-0.59663211, -0.36630975],\n",
       "       [-0.32718535,  1.19589359],\n",
       "       [-0.28869296, -0.36630975],\n",
       "       [-0.25020056,  0.71107186],\n",
       "       [-0.21170817,  0.01077382],\n",
       "       [-0.17321577,  0.71107186],\n",
       "       [-0.13472338,  0.01077382],\n",
       "       [-0.09623099, -0.09696434],\n",
       "       [-0.05773859,  0.54946462],\n",
       "       [-0.0192462 , -0.09696434],\n",
       "       [ 0.21170817,  0.17238106],\n",
       "       [ 0.25020056, -0.09696434],\n",
       "       [ 0.28869296, -0.09696434],\n",
       "       [ 0.48115493,  0.17238106],\n",
       "       [ 0.51964732, -0.09696434],\n",
       "       [ 0.6351245 , -0.09696434],\n",
       "       [ 0.6736169 , -0.09696434],\n",
       "       [ 0.75060168,  0.17238106],\n",
       "       [ 0.82758647, -0.09696434],\n",
       "       [ 0.94306366, -0.09696434],\n",
       "       [ 1.02004844,  0.92654819],\n",
       "       [ 1.05854084,  0.54946462],\n",
       "       [ 1.25100281, -0.09696434],\n",
       "       [ 1.2894952 ,  0.92654819],\n",
       "       [ 1.3279876 ,  0.54946462],\n",
       "       [ 1.36647999, -0.09696434],\n",
       "       [ 1.44346478,  0.17238106],\n",
       "       [ 1.48195717, -0.36630975],\n",
       "       [ 1.52044957, -0.09696434],\n",
       "       [ 1.55894196,  0.92654819],\n",
       "       [ 1.59743435,  0.17238106],\n",
       "       [ 1.63592675,  0.17238106],\n",
       "       [ 1.67441914, -0.36630975],\n",
       "       [ 1.71291154, -0.36630975]])"
      ]
     },
     "execution_count": 72,
     "metadata": {},
     "output_type": "execute_result"
    }
   ],
   "source": [
    "outliers"
   ]
  },
  {
   "cell_type": "code",
   "execution_count": null,
   "metadata": {
    "collapsed": true
   },
   "outputs": [],
   "source": []
  }
 ],
 "metadata": {
  "anaconda-cloud": {},
  "kernelspec": {
   "display_name": "Python [conda root]",
   "language": "python",
   "name": "conda-root-py"
  },
  "language_info": {
   "codemirror_mode": {
    "name": "ipython",
    "version": 2
   },
   "file_extension": ".py",
   "mimetype": "text/x-python",
   "name": "python",
   "nbconvert_exporter": "python",
   "pygments_lexer": "ipython2",
   "version": "2.7.12"
  }
 },
 "nbformat": 4,
 "nbformat_minor": 1
}
