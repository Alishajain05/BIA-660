{
 "cells": [
  {
   "cell_type": "code",
   "execution_count": 32,
   "metadata": {
    "collapsed": false
   },
   "outputs": [],
   "source": [
    "import pandas as pd\n",
    "import numpy as np\n",
    "from selenium import webdriver\n",
    "from selenium.webdriver.common.desired_capabilities import DesiredCapabilities\n",
    "from bs4 import BeautifulSoup\n",
    "import matplotlib.pyplot as plt\n",
    "# %matplotlib inline\n",
    "import time\n",
    "import seaborn as sns\n",
    "import math\n",
    "from scipy.spatial.distance import euclidean, chebyshev, cityblock\n",
    "from sklearn.preprocessing import MinMaxScaler, RobustScaler, StandardScaler, MaxAbsScaler\n",
    "from sklearn.cluster import DBSCAN\n",
    "from sklearn.preprocessing import StandardScaler\n",
    "import unidecode\n",
    "from unidecode import unidecode\n",
    "import requests\n",
    "import pandas as pd\n",
    "import datetime\n",
    "%matplotlib inline\n",
    "from dateutil.parser import parse\n",
    "# from selenium import webdriver\n",
    "from selenium.webdriver.common.action_chains import ActionChains\n",
    "from selenium.webdriver.common.keys import Keys\n",
    "from statistics import mean\n",
    "from statistics import stdev\n",
    "\n",
    "# driver = webdriver.Chrome()\n",
    "# driver.get('https://www.google.com/flights/explore/')\n",
    "# time.sleep(6)\n",
    "\n",
    "def scrape_data(start_date, from_place, to_place, city_name):\n",
    "    driver = webdriver.Chrome()\n",
    "    driver.get('https://www.google.com/flights/explore/')\n",
    "    time.sleep(6)\n",
    "\n",
    "    to_input = driver.find_element_by_xpath('//*[@id=\"root\"]/div[3]/div[3]/div/div[4]/div/div')\n",
    "    to_input.click()\n",
    "    to_action = ActionChains(driver)\n",
    "    to_action.send_keys(to_place)\n",
    "    to_action.send_keys(Keys.ENTER)\n",
    "    to_action.perform()\n",
    "    \n",
    "    from_input = driver.find_element_by_xpath('//*[@id=\"root\"]/div[3]/div[3]/div/div[2]/div/div')\n",
    "    from_input.click()\n",
    "    from_action = ActionChains(driver)\n",
    "    from_action.send_keys(from_place)\n",
    "    from_action.send_keys(Keys.ENTER)\n",
    "    from_action.perform() \n",
    "    \n",
    "    time.sleep(5)\n",
    "    current_url = driver.current_url\n",
    "    split_url = current_url.split('2017')\n",
    "    new_url = split_url[0] + start_date\n",
    "    driver.get(new_url)    \n",
    "    \n",
    "    time.sleep(5)\n",
    "    results = driver.find_elements_by_class_name('LJTSM3-v-c')\n",
    "    \n",
    "\n",
    "    result_names = []\n",
    "    for i in range(len(results)):\n",
    "        result_names.append(results[i].text)\n",
    "\n",
    "    cities = []\n",
    "    for city in result_names:\n",
    "        name = city.split(',')\n",
    "        cities.append(unidecode(name[0]))\n",
    "    \n",
    "    lower_case = [x.lower() for x in cities]\n",
    "    if city_name.lower() in lower_case:\n",
    "        city_index = lower_case.index(city_name.lower())\n",
    "    \n",
    "    time.sleep(2)\n",
    "    \n",
    "    box_class = driver.find_elements_by_class_name(\"LJTSM3-v-m\")\n",
    "    test = box_class[city_index]\n",
    "    bars = test.find_elements_by_class_name('LJTSM3-w-x')\n",
    "\n",
    "    time.sleep(1)\n",
    "\n",
    "    data = []\n",
    "\n",
    "    for bar in bars:\n",
    "        ActionChains(driver).move_to_element(bar).perform()\n",
    "        time.sleep(0.00001)\n",
    "        data.append((test.find_element_by_class_name('LJTSM3-w-k').find_elements_by_tag_name('div')[0].text,\n",
    "           test.find_element_by_class_name('LJTSM3-w-k').find_elements_by_tag_name('div')[1].text))\n",
    "\n",
    "    time.sleep(2)\n",
    "\n",
    "    d = data[0]\n",
    "    clean_data = [(float(d[0].replace('$', '').replace(',', '')), (parse(d[1].split('-')[0].strip()) - datetime.datetime(2017,4,4,0,0)).days)\n",
    "                      for d in data]\n",
    "\n",
    "    time.sleep(3)\n",
    "\n",
    "    df = pd.DataFrame(clean_data, columns=['Price','Start_Date'])\n",
    "    return df\n",
    "\n",
    "# df = scrape_data('2017-04-16','New York','United States','Miami')\n",
    "# print df\n",
    "\n",
    "def scrape_data_90(start_date, from_place, to_place, city_name):\n",
    "    \n",
    "    driver = webdriver.Chrome()\n",
    "    driver.get('https://www.google.com/flights/explore/')\n",
    "    time.sleep(6)\n",
    "    \n",
    "    to_input = driver.find_element_by_xpath('//*[@id=\"root\"]/div[3]/div[3]/div/div[4]/div/div')\n",
    "    to_input.click()\n",
    "    to_action = ActionChains(driver)\n",
    "    to_action.send_keys(to_place)\n",
    "    to_action.send_keys(Keys.ENTER)\n",
    "    to_action.perform()\n",
    "    \n",
    "    from_input = driver.find_element_by_xpath('//*[@id=\"root\"]/div[3]/div[3]/div/div[2]/div/div')\n",
    "    from_input.click()\n",
    "    from_action = ActionChains(driver)\n",
    "    from_action.send_keys(from_place)\n",
    "    from_action.send_keys(Keys.ENTER)\n",
    "    from_action.perform() \n",
    "    \n",
    "    time.sleep(5)\n",
    "    current_url = driver.current_url\n",
    "    split_url = current_url.split('2017')\n",
    "    new_url = split_url[0] + start_date\n",
    "    driver.get(new_url)    \n",
    "    \n",
    "    time.sleep(5)\n",
    "    results = driver.find_elements_by_class_name('LJTSM3-v-c')\n",
    "    \n",
    "\n",
    "    result_names = []\n",
    "    for i in range(len(results)):\n",
    "        result_names.append(results[i].text)\n",
    "\n",
    "    cities = []\n",
    "    for city in result_names:\n",
    "        name = city.split(',')\n",
    "        cities.append(unidecode(name[0]))\n",
    "    \n",
    "    lower_case = [x.lower() for x in cities]\n",
    "    if city_name.lower() in lower_case:\n",
    "        city_index = lower_case.index(city_name.lower())\n",
    "    \n",
    "    time.sleep(2)\n",
    "    \n",
    "    box_class = driver.find_elements_by_class_name(\"LJTSM3-v-m\")\n",
    "    test = box_class[city_index]\n",
    "    bars = test.find_elements_by_class_name('LJTSM3-w-x')\n",
    "\n",
    "    time.sleep(1)\n",
    "    data_90 = []\n",
    "\n",
    "    for bar in bars:\n",
    "        ActionChains(driver).move_to_element(bar).perform()\n",
    "        time.sleep(0.00001)\n",
    "        data_90.append((test.find_element_by_class_name('LJTSM3-w-k').find_elements_by_tag_name('div')[0].text,\n",
    "           test.find_element_by_class_name('LJTSM3-w-k').find_elements_by_tag_name('div')[1].text))\n",
    "    \n",
    "    move_bars_input = driver.find_element_by_xpath('//*[@id=\"root\"]/div[3]/div[4]/div/div[2]/div[1]/div/div[2]/div[2]/div/div[2]/div[5]')\n",
    "    move_bars_input.click()\n",
    "    move_bars_input = ActionChains(driver)\n",
    "    move_bars_input.perform()\n",
    "    \n",
    "    time.sleep(5)\n",
    "    results = driver.find_elements_by_class_name('LJTSM3-v-c')\n",
    "    result_names = []\n",
    "    for i in range(len(results)):\n",
    "        result_names.append(results[i].text)\n",
    "\n",
    "    cities = []\n",
    "    for city in result_names:\n",
    "        name = city.split(',')\n",
    "        cities.append(unidecode(name[0]))\n",
    "        \n",
    "    lower_case = [x.lower() for x in cities]\n",
    "    if city_name.lower() in lower_case:\n",
    "        city_index = lower_case.index(city_name.lower())\n",
    "        \n",
    "    time.sleep(2)\n",
    "        \n",
    "    box_class = driver.find_elements_by_class_name(\"LJTSM3-v-m\")\n",
    "    test = box_class[city_index]\n",
    "    bars = test.find_elements_by_class_name('LJTSM3-w-x')\n",
    "    \n",
    "    next_data= []\n",
    "    for bar in bars:\n",
    "        ActionChains(driver).move_to_element(bar).perform()\n",
    "        time.sleep(0.00001)\n",
    "        next_data.append((test.find_element_by_class_name('LJTSM3-w-k').find_elements_by_tag_name('div')[0].text,\n",
    "           test.find_element_by_class_name('LJTSM3-w-k').find_elements_by_tag_name('div')[1].text))\n",
    "    \n",
    "    time.sleep(3)\n",
    "    for element in next_data:\n",
    "        if element not in data_90:\n",
    "            data_90.append(element)\n",
    "            \n",
    "    d = data_90[0]\n",
    "    clean_data = [(float(d[0].replace('$', '').replace(',', '')), (parse(d[1].split('-')[0].strip()) - datetime.datetime(2017,4,4,0,0)).days)\n",
    "                      for d in data_90]\n",
    "    \n",
    "    df_90 = pd.DataFrame(clean_data, columns=['Price','Start_Date'])\n",
    "    return df_90   \n",
    "    \n",
    "# df_90 = scrape_data_90('2017-04-20','London','Europe','Dublin')\n",
    "# print 90\n",
    "\n",
    "def task_3_dbscan(flight_data):\n",
    "       \n",
    "    px = [x for x in df['Price']]\n",
    "    ff = pd.DataFrame(px, columns=['Price_of_flight']).reset_index()\n",
    "\n",
    "    X = MinMaxScaler().fit_transform(ff) \n",
    "    db = DBSCAN(eps = 0.05, min_samples = 3).fit(X)\n",
    "\n",
    "    labels = db.labels_\n",
    "    clusters = len(set(labels))\n",
    "    unique_labels = set(labels)\n",
    "    colors = plt.cm.Spectral(np.linspace(0, 1, len(unique_labels)))\n",
    "\n",
    "    plt.subplots(figsize = (12,8))\n",
    "\n",
    "    for k,c in zip(unique_labels, colors):\n",
    "        class_member_mask = (labels == k)\n",
    "        xy = X[class_member_mask]\n",
    "        plt.plot(xy[:, 0], xy[:, 1], 'o', markerfacecolor = c, markeredgecolor = 'k',markersize = 14)\n",
    "    \n",
    "    plt.title('Total Clusters: {}'.format(clusters), fontsize = 14, y = 1.01) \n",
    "\n",
    "    def calculate_cluster_means(X, labels):\n",
    "        lbls = np.unique(labels)\n",
    "        print \"Cluster labels: {}\".format(np.unique(lbls))\n",
    "\n",
    "        cluster_means = [np.mean(X[labels==num, :], axis=0) for num in range(lbls[-1] + 1)]\n",
    "        print \"Cluster Means: {}\".format(cluster_means)\n",
    "        return cluster_means\n",
    "\n",
    "    cluster_means = calculate_cluster_means(X, labels)\n",
    "\n",
    "    out_ind = []\n",
    "    for ind,y in enumerate(X):\n",
    "        if labels[ind]== -1:\n",
    "            out_ind.append([ind,y])\n",
    "\n",
    "    class_member_mask = (labels == -1) \n",
    "    outs = X[class_member_mask]\n",
    "\n",
    "    chosen_list = []\n",
    "\n",
    "    for out_index,out in enumerate(outs):    \n",
    "        min_list = []\n",
    "        for index,cm in enumerate(cluster_means):         \n",
    "            min_list.append(euclidean(cm, out))\n",
    "\n",
    "        for inx,abc in enumerate(min_list):\n",
    "            if abc == sorted(min_list)[0]:\n",
    "                chosen_list.append([out_index,inx])\n",
    "            \n",
    "    outlier_prices = []\n",
    "    for i,abc in enumerate(out_ind):\n",
    "        outlier_prices.append(df['Price'][abc[0]])\n",
    "    \n",
    "    def cluster_mean_price(index):\n",
    "        clus_ind = []\n",
    "        for ind,y in enumerate(X):\n",
    "            if labels[ind]== index:\n",
    "                clus_ind.append([ind,y])\n",
    "    \n",
    "        class_member_mask_clus = (labels == index) \n",
    "        clus = X[class_member_mask_clus] \n",
    "    \n",
    "        clus_prices=[]\n",
    "        for i,abc in enumerate(clus_ind):\n",
    "            clus_prices.append(df['Price'][abc[0]])   \n",
    "\n",
    "        return clus_prices\n",
    "    \n",
    "    \n",
    "    mean_of_chosenlist_clusters= []\n",
    "    for b in chosen_list:\n",
    "        mean_of_chosenlist_clusters.append(mean(cluster_mean_price(b[1])))\n",
    "    \n",
    "    stdev_of_chosenlist=[]\n",
    "    for b in chosen_list:\n",
    "        stdev_of_chosenlist.append(stdev(cluster_mean_price(b[1])))\n",
    "    \n",
    "    outlier_indexes = []\n",
    "    for b in chosen_list:\n",
    "        outlier_indexes.append(b[0])\n",
    "\n",
    "    \n",
    "    df_best_price = pd.DataFrame(columns=('Start_Date','Price'))\n",
    "    best_price_count = 0\n",
    "    for x in range(0, (len(outlier_indexes))-1):    \n",
    "        m = int(mean_of_chosenlist_clusters[x])\n",
    "        s = int(stdev_of_chosenlist[x])\n",
    "        if (outlier_prices[x] <  (m - (2 * s))) and  (outlier_prices[x] < (m - 50)):\n",
    "            best_price_count += 1\n",
    "            df_best_price.loc[best_price_count] = df.loc[outlier_indexes[x]]\n",
    "        \n",
    "    return df_best_price\n",
    "\n",
    "def task_3_IQR(flight_data):    \n",
    "    df['Price'].plot.box()\n",
    "    plt.savefig('task_3_IQR.png')\n",
    "    \n",
    "    Q1 = df['Price'].quantile(0.25)\n",
    "    Q3 = df['Price'].quantile(0.75)\n",
    "    IQR = Q3 - Q1\n",
    "    \n",
    "#     i = 'Price'\n",
    "#     ax = df[i].plot(kind='kde')\n",
    "#     plt.subplot(212)\n",
    "#     plt.xlim(df[i].min(), df[i].max()*1.1)\n",
    "#     sns.boxplot(x=df[i])\n",
    "#     plt.axvline(x=min)\n",
    "#     plt.axvline(x=max)\n",
    "#     plt.savefig('task_3_IQR.png')\n",
    "\n",
    "    iqr_outlier_index = []\n",
    "    iqr_outlier_data = []\n",
    "\n",
    "    for i, x in enumerate(df['Price']):\n",
    "        if (x < abs(Q1 - (1.5 * IQR))) or (x > abs(Q3 + (1.5 * IQR))):\n",
    "            iqr_outlier_index.append(i)\n",
    "\n",
    "    for x in iqr_outlier_index:\n",
    "        iqr_outlier_data.append([df['Start_Date'][x], df['Price'][x]])\n",
    "\n",
    "    return pd.DataFrame(iqr_outlier_data, columns=['Start_Date', 'Price'])\n",
    "\n",
    "\n"
   ]
  },
  {
   "cell_type": "code",
   "execution_count": 28,
   "metadata": {
    "collapsed": true
   },
   "outputs": [],
   "source": [
    "# df = scrape_data('2017-04-16','New York','United States','Miami')"
   ]
  },
  {
   "cell_type": "code",
   "execution_count": 21,
   "metadata": {
    "collapsed": false,
    "scrolled": true
   },
   "outputs": [],
   "source": [
    "df = scrape_data_90('2017-04-14', 'Dubai','United States','Chicago')"
   ]
  },
  {
   "cell_type": "code",
   "execution_count": 22,
   "metadata": {
    "collapsed": true
   },
   "outputs": [
    {
     "name": "stdout",
     "output_type": "stream",
     "text": [
      "Cluster labels: [-1  0  1  2  3  4  5  6  7  8]\n",
      "Cluster Means: [array([ 0.0505618 ,  0.24118738]), array([ 0.06292135,  0.16920223]), array([ 0.13483146,  0.0148423 ]), array([ 0.1741573,  0.0932282]), array([ 0.43274478,  0.00763318]), array([ 0.69020867,  0.11052213]), array([ 0.74157303,  0.20841064]), array([ 0.85168539,  0.80148423]), array([ 0.94881398,  0.20861678])]\n"
     ]
    },
    {
     "data": {
      "text/html": [
       "<div>\n",
       "<table border=\"1\" class=\"dataframe\">\n",
       "  <thead>\n",
       "    <tr style=\"text-align: right;\">\n",
       "      <th></th>\n",
       "      <th>Start_Date</th>\n",
       "      <th>Price</th>\n",
       "    </tr>\n",
       "  </thead>\n",
       "  <tbody>\n",
       "    <tr>\n",
       "      <th>1</th>\n",
       "      <td>19.0</td>\n",
       "      <td>917.0</td>\n",
       "    </tr>\n",
       "  </tbody>\n",
       "</table>\n",
       "</div>"
      ],
      "text/plain": [
       "   Start_Date  Price\n",
       "1        19.0  917.0"
      ]
     },
     "execution_count": 22,
     "metadata": {},
     "output_type": "execute_result"
    },
    {
     "data": {
      "image/png": "[encoded data removed]",
      "text/plain": [
       "<matplotlib.figure.Figure at 0xe1dfcc0>"
      ]
     },
     "metadata": {},
     "output_type": "display_data"
    }
   ],
   "source": [
    "task_3_dbscan(df)"
   ]
  },
  {
   "cell_type": "code",
   "execution_count": 33,
   "metadata": {
    "collapsed": false
   },
   "outputs": [
    {
     "data": {
      "text/html": [
       "<div>\n",
       "<table border=\"1\" class=\"dataframe\">\n",
       "  <thead>\n",
       "    <tr style=\"text-align: right;\">\n",
       "      <th></th>\n",
       "      <th>Start_Date</th>\n",
       "      <th>Price</th>\n",
       "    </tr>\n",
       "  </thead>\n",
       "  <tbody>\n",
       "    <tr>\n",
       "      <th>0</th>\n",
       "      <td>79</td>\n",
       "      <td>1247.0</td>\n",
       "    </tr>\n",
       "    <tr>\n",
       "      <th>1</th>\n",
       "      <td>80</td>\n",
       "      <td>1340.0</td>\n",
       "    </tr>\n",
       "    <tr>\n",
       "      <th>2</th>\n",
       "      <td>81</td>\n",
       "      <td>1373.0</td>\n",
       "    </tr>\n",
       "    <tr>\n",
       "      <th>3</th>\n",
       "      <td>82</td>\n",
       "      <td>1269.0</td>\n",
       "    </tr>\n",
       "    <tr>\n",
       "      <th>4</th>\n",
       "      <td>83</td>\n",
       "      <td>1269.0</td>\n",
       "    </tr>\n",
       "    <tr>\n",
       "      <th>5</th>\n",
       "      <td>84</td>\n",
       "      <td>1209.0</td>\n",
       "    </tr>\n",
       "    <tr>\n",
       "      <th>6</th>\n",
       "      <td>87</td>\n",
       "      <td>1264.0</td>\n",
       "    </tr>\n",
       "    <tr>\n",
       "      <th>7</th>\n",
       "      <td>88</td>\n",
       "      <td>1264.0</td>\n",
       "    </tr>\n",
       "    <tr>\n",
       "      <th>8</th>\n",
       "      <td>89</td>\n",
       "      <td>1264.0</td>\n",
       "    </tr>\n",
       "    <tr>\n",
       "      <th>9</th>\n",
       "      <td>95</td>\n",
       "      <td>1114.0</td>\n",
       "    </tr>\n",
       "  </tbody>\n",
       "</table>\n",
       "</div>"
      ],
      "text/plain": [
       "   Start_Date   Price\n",
       "0          79  1247.0\n",
       "1          80  1340.0\n",
       "2          81  1373.0\n",
       "3          82  1269.0\n",
       "4          83  1269.0\n",
       "5          84  1209.0\n",
       "6          87  1264.0\n",
       "7          88  1264.0\n",
       "8          89  1264.0\n",
       "9          95  1114.0"
      ]
     },
     "execution_count": 33,
     "metadata": {},
     "output_type": "execute_result"
    },
    {
     "data": {
      "image/png": "[encoded data removed]",
      "text/plain": [
       "<matplotlib.figure.Figure at 0x1083e048>"
      ]
     },
     "metadata": {},
     "output_type": "display_data"
    }
   ],
   "source": [
    "task_3_IQR(df)"
   ]
  },
  {
   "cell_type": "code",
   "execution_count": null,
   "metadata": {
    "collapsed": true
   },
   "outputs": [],
   "source": [
    "X = MinMaxScaler().fit_transform(ff) \n",
    "db = DBSCAN(eps = 0.05, min_samples = 3).fit(X)\n",
    "\n",
    "labels = db.labels_\n",
    "clusters = len(set(labels))\n",
    "unique_labels = set(labels)\n",
    "colors = plt.cm.Spectral(np.linspace(0, 1, len(unique_labels)))\n",
    "\n",
    "plt.subplots(figsize = (12,8))\n",
    "\n",
    "for k,c in zip(unique_labels, colors):\n",
    "    class_member_mask = (labels == k)\n",
    "    xy = X[class_member_mask]\n",
    "    plt.plot(xy[:, 0], xy[:, 1], 'o', markerfacecolor = c, markeredgecolor = 'k',markersize = 14)\n",
    "    \n",
    "plt.title('Total Clusters: {}'.format(clusters), fontsize = 14, y = 1.01) \n",
    "\n",
    "def calculate_cluster_means(X, labels):\n",
    "    lbls = np.unique(labels)\n",
    "    print \"Cluster labels: {}\".format(np.unique(lbls))\n",
    "\n",
    "    cluster_means = [np.mean(X[labels==num, :], axis=0) for num in range(lbls[-1] + 1)]\n",
    "    print \"Cluster Means: {}\".format(cluster_means)\n",
    "    return cluster_means\n",
    "\n",
    "cluster_means = calculate_cluster_means(X, labels)\n",
    "\n",
    "out_ind = []\n",
    "for ind,y in enumerate(X):\n",
    "    if labels[ind]== -1:\n",
    "        out_ind.append([ind,y])\n",
    "\n",
    "# Outliers\n",
    "class_member_mask = (labels == -1) \n",
    "outs = X[class_member_mask]\n",
    "\n",
    "# Finding closest cluster for each outlier\n",
    "chosen_list = []\n",
    "\n",
    "for out_index,out in enumerate(outs):    \n",
    "    min_list = []\n",
    "    for index,cm in enumerate(cluster_means):         \n",
    "        min_list.append(euclidean(cm, out))\n",
    "\n",
    "    for inx,abc in enumerate(min_list):\n",
    "        if abc == sorted(min_list)[0]:\n",
    "            chosen_list.append([out_index,inx])\n",
    "            \n",
    "outlier_prices = []\n",
    "for i,abc in enumerate(out_ind):\n",
    "    outlier_prices.append(df['Price'][abc[0]])\n",
    "    \n",
    "def cluster_mean_price(index):\n",
    "    clus_ind = []\n",
    "    for ind,y in enumerate(X):\n",
    "        if labels[ind]== index:\n",
    "            clus_ind.append([ind,y])\n",
    "    \n",
    "    class_member_mask_clus = (labels == index) \n",
    "    clus = X[class_member_mask_clus] \n",
    "    \n",
    "    clus_prices=[]\n",
    "    for i,abc in enumerate(clus_ind):\n",
    "        clus_prices.append(df['Price'][abc[0]])   \n",
    "\n",
    "    return clus_prices\n",
    "    \n",
    "    \n",
    "mean_of_chosenlist_clusters= []\n",
    "for b in chosen_list:\n",
    "    mean_of_chosenlist_clusters.append(mean(cluster_mean_price(b[1])))\n",
    "    \n",
    "stdev_of_chosenlist=[]\n",
    "for b in chosen_list:\n",
    "    stdev_of_chosenlist.append(stdev(cluster_mean_price(b[1])))\n",
    "    \n",
    "outlier_indexes = []\n",
    "for b in chosen_list:\n",
    "    outlier_indexes.append(b[0])\n",
    "\n",
    "    \n",
    "df_best_price = pd.DataFrame(columns=('Start_Date','Price'))\n",
    "best_price_count = 0\n",
    "for x in range(0, (len(outlier_indexes))-1):    \n",
    "    m = int(mean_of_chosenlist_clusters[x])\n",
    "    s = int(stdev_of_chosenlist[x])\n",
    "    if (outlier_prices[x] <  (m - (2 * s))) and  (outlier_prices[x] < (m - 50)):\n",
    "        best_price_count += 1\n",
    "        df_best_price.loc[best_price_count] = df.ix[outlier_indexes[x]]\n",
    "        \n",
    "df_best_price\n"
   ]
  },
  {
   "cell_type": "code",
   "execution_count": 12,
   "metadata": {
    "collapsed": false
   },
   "outputs": [
    {
     "data": {
      "text/plain": [
       "<matplotlib.axes._subplots.AxesSubplot at 0xd457048>"
      ]
     },
     "execution_count": 12,
     "metadata": {},
     "output_type": "execute_result"
    },
    {
     "data": {
      "image/png": "[encoded data removed]",
      "text/plain": [
       "<matplotlib.figure.Figure at 0xc2b67b8>"
      ]
     },
     "metadata": {},
     "output_type": "display_data"
    }
   ],
   "source": [
    "df['Price'].plot.box()"
   ]
  },
  {
   "cell_type": "code",
   "execution_count": 13,
   "metadata": {
    "collapsed": true
   },
   "outputs": [],
   "source": [
    "import numpy as np\n",
    "\n",
    "def outliers_iqr(ys):\n",
    "    quartile_1, quartile_3 = np.percentile(ys, [25, 75])\n",
    "    iqr = quartile_3 - quartile_1\n",
    "    lower_bound = quartile_1 - (iqr * 1.5)\n",
    "    upper_bound = quartile_3 + (iqr * 1.5)\n",
    "    return np.where((ys > upper_bound) | (ys < lower_bound))"
   ]
  },
  {
   "cell_type": "code",
   "execution_count": 14,
   "metadata": {
    "collapsed": false
   },
   "outputs": [
    {
     "data": {
      "text/plain": [
       "(array([ 0,  1, 39, 40], dtype=int64),)"
      ]
     },
     "execution_count": 14,
     "metadata": {},
     "output_type": "execute_result"
    }
   ],
   "source": [
    "outliers_iqr(df['Price'])"
   ]
  },
  {
   "cell_type": "code",
   "execution_count": 17,
   "metadata": {
    "collapsed": true
   },
   "outputs": [],
   "source": [
    "# q1 = df['Price'].quantile(.25)\n",
    "# q2 = df['Price'].quantile(.75)\n",
    "# mask = df['Price'].between(q1, q2, inclusive=True)\n",
    "# iqr = df.loc[mask, 'Price']\n",
    "# iqr"
   ]
  },
  {
   "cell_type": "code",
   "execution_count": 19,
   "metadata": {
    "collapsed": false
   },
   "outputs": [
    {
     "data": {
      "text/plain": [
       "138.75"
      ]
     },
     "execution_count": 19,
     "metadata": {},
     "output_type": "execute_result"
    }
   ],
   "source": [
    "Q1 = df['Price'].quantile(0.25)\n",
    "Q3 = df['Price'].quantile(0.75)\n",
    "# IQR = Q3 - Q1\n",
    "Q1\n",
    "\n",
    "# #Values between Q1-1.5IQR and Q3+1.5IQR\n",
    "# filtered = df.query('(@Q1 - 1.5 * @IQR) <= nb <= (@Q3 + 1.5 * @IQR)')\n",
    "\n",
    "# print(filtered.head())\n",
    "# #     nb"
   ]
  },
  {
   "cell_type": "code",
   "execution_count": 20,
   "metadata": {
    "collapsed": true
   },
   "outputs": [
    {
     "ename": "TypeError",
     "evalue": "float() argument must be a string or a number",
     "output_type": "error",
     "traceback": [
      "\u001b[0;31m---------------------------------------------------------------------------\u001b[0m",
      "\u001b[0;31mTypeError\u001b[0m                                 Traceback (most recent call last)",
      "\u001b[0;32m<ipython-input-20-c4b5181e3e96>\u001b[0m in \u001b[0;36m<module>\u001b[0;34m()\u001b[0m\n\u001b[1;32m     12\u001b[0m \u001b[0mplt\u001b[0m\u001b[1;33m.\u001b[0m\u001b[0mxlim\u001b[0m\u001b[1;33m(\u001b[0m\u001b[0mdf\u001b[0m\u001b[1;33m[\u001b[0m\u001b[0mi\u001b[0m\u001b[1;33m]\u001b[0m\u001b[1;33m.\u001b[0m\u001b[0mmin\u001b[0m\u001b[1;33m(\u001b[0m\u001b[1;33m)\u001b[0m\u001b[1;33m,\u001b[0m \u001b[0mdf\u001b[0m\u001b[1;33m[\u001b[0m\u001b[0mi\u001b[0m\u001b[1;33m]\u001b[0m\u001b[1;33m.\u001b[0m\u001b[0mmax\u001b[0m\u001b[1;33m(\u001b[0m\u001b[1;33m)\u001b[0m\u001b[1;33m*\u001b[0m\u001b[1;36m1.1\u001b[0m\u001b[1;33m)\u001b[0m\u001b[1;33m\u001b[0m\u001b[0m\n\u001b[1;32m     13\u001b[0m \u001b[0msns\u001b[0m\u001b[1;33m.\u001b[0m\u001b[0mboxplot\u001b[0m\u001b[1;33m(\u001b[0m\u001b[0mx\u001b[0m\u001b[1;33m=\u001b[0m\u001b[0mdf\u001b[0m\u001b[1;33m[\u001b[0m\u001b[0mi\u001b[0m\u001b[1;33m]\u001b[0m\u001b[1;33m)\u001b[0m\u001b[1;33m\u001b[0m\u001b[0m\n\u001b[0;32m---> 14\u001b[0;31m \u001b[0mplt\u001b[0m\u001b[1;33m.\u001b[0m\u001b[0maxvline\u001b[0m\u001b[1;33m(\u001b[0m\u001b[0mx\u001b[0m\u001b[1;33m=\u001b[0m\u001b[0mmin\u001b[0m\u001b[1;33m)\u001b[0m\u001b[1;33m\u001b[0m\u001b[0m\n\u001b[0m\u001b[1;32m     15\u001b[0m \u001b[0mplt\u001b[0m\u001b[1;33m.\u001b[0m\u001b[0maxvline\u001b[0m\u001b[1;33m(\u001b[0m\u001b[0mx\u001b[0m\u001b[1;33m=\u001b[0m\u001b[0mmax\u001b[0m\u001b[1;33m)\u001b[0m\u001b[1;33m\u001b[0m\u001b[0m\n",
      "\u001b[0;32mC:\\Users\\ajain\\Anaconda2\\lib\\site-packages\\matplotlib\\pyplot.pyc\u001b[0m in \u001b[0;36maxvline\u001b[0;34m(x, ymin, ymax, hold, **kwargs)\u001b[0m\n\u001b[1;32m   2613\u001b[0m         \u001b[0max\u001b[0m\u001b[1;33m.\u001b[0m\u001b[0mhold\u001b[0m\u001b[1;33m(\u001b[0m\u001b[0mhold\u001b[0m\u001b[1;33m)\u001b[0m\u001b[1;33m\u001b[0m\u001b[0m\n\u001b[1;32m   2614\u001b[0m     \u001b[1;32mtry\u001b[0m\u001b[1;33m:\u001b[0m\u001b[1;33m\u001b[0m\u001b[0m\n\u001b[0;32m-> 2615\u001b[0;31m         \u001b[0mret\u001b[0m \u001b[1;33m=\u001b[0m \u001b[0max\u001b[0m\u001b[1;33m.\u001b[0m\u001b[0maxvline\u001b[0m\u001b[1;33m(\u001b[0m\u001b[0mx\u001b[0m\u001b[1;33m=\u001b[0m\u001b[0mx\u001b[0m\u001b[1;33m,\u001b[0m \u001b[0mymin\u001b[0m\u001b[1;33m=\u001b[0m\u001b[0mymin\u001b[0m\u001b[1;33m,\u001b[0m \u001b[0mymax\u001b[0m\u001b[1;33m=\u001b[0m\u001b[0mymax\u001b[0m\u001b[1;33m,\u001b[0m \u001b[1;33m**\u001b[0m\u001b[0mkwargs\u001b[0m\u001b[1;33m)\u001b[0m\u001b[1;33m\u001b[0m\u001b[0m\n\u001b[0m\u001b[1;32m   2616\u001b[0m     \u001b[1;32mfinally\u001b[0m\u001b[1;33m:\u001b[0m\u001b[1;33m\u001b[0m\u001b[0m\n\u001b[1;32m   2617\u001b[0m         \u001b[0max\u001b[0m\u001b[1;33m.\u001b[0m\u001b[0mhold\u001b[0m\u001b[1;33m(\u001b[0m\u001b[0mwashold\u001b[0m\u001b[1;33m)\u001b[0m\u001b[1;33m\u001b[0m\u001b[0m\n",
      "\u001b[0;32mC:\\Users\\ajain\\Anaconda2\\lib\\site-packages\\matplotlib\\axes\\_axes.pyc\u001b[0m in \u001b[0;36maxvline\u001b[0;34m(self, x, ymin, ymax, **kwargs)\u001b[0m\n\u001b[1;32m    776\u001b[0m         \u001b[0mtrans\u001b[0m \u001b[1;33m=\u001b[0m \u001b[0mself\u001b[0m\u001b[1;33m.\u001b[0m\u001b[0mget_xaxis_transform\u001b[0m\u001b[1;33m(\u001b[0m\u001b[0mwhich\u001b[0m\u001b[1;33m=\u001b[0m\u001b[1;34m'grid'\u001b[0m\u001b[1;33m)\u001b[0m\u001b[1;33m\u001b[0m\u001b[0m\n\u001b[1;32m    777\u001b[0m         \u001b[0ml\u001b[0m \u001b[1;33m=\u001b[0m \u001b[0mmlines\u001b[0m\u001b[1;33m.\u001b[0m\u001b[0mLine2D\u001b[0m\u001b[1;33m(\u001b[0m\u001b[1;33m[\u001b[0m\u001b[0mx\u001b[0m\u001b[1;33m,\u001b[0m \u001b[0mx\u001b[0m\u001b[1;33m]\u001b[0m\u001b[1;33m,\u001b[0m \u001b[1;33m[\u001b[0m\u001b[0mymin\u001b[0m\u001b[1;33m,\u001b[0m \u001b[0mymax\u001b[0m\u001b[1;33m]\u001b[0m\u001b[1;33m,\u001b[0m \u001b[0mtransform\u001b[0m\u001b[1;33m=\u001b[0m\u001b[0mtrans\u001b[0m\u001b[1;33m,\u001b[0m \u001b[1;33m**\u001b[0m\u001b[0mkwargs\u001b[0m\u001b[1;33m)\u001b[0m\u001b[1;33m\u001b[0m\u001b[0m\n\u001b[0;32m--> 778\u001b[0;31m         \u001b[0mself\u001b[0m\u001b[1;33m.\u001b[0m\u001b[0madd_line\u001b[0m\u001b[1;33m(\u001b[0m\u001b[0ml\u001b[0m\u001b[1;33m)\u001b[0m\u001b[1;33m\u001b[0m\u001b[0m\n\u001b[0m\u001b[1;32m    779\u001b[0m         \u001b[0mself\u001b[0m\u001b[1;33m.\u001b[0m\u001b[0mautoscale_view\u001b[0m\u001b[1;33m(\u001b[0m\u001b[0mscalex\u001b[0m\u001b[1;33m=\u001b[0m\u001b[0mscalex\u001b[0m\u001b[1;33m,\u001b[0m \u001b[0mscaley\u001b[0m\u001b[1;33m=\u001b[0m\u001b[0mFalse\u001b[0m\u001b[1;33m)\u001b[0m\u001b[1;33m\u001b[0m\u001b[0m\n\u001b[1;32m    780\u001b[0m         \u001b[1;32mreturn\u001b[0m \u001b[0ml\u001b[0m\u001b[1;33m\u001b[0m\u001b[0m\n",
      "\u001b[0;32mC:\\Users\\ajain\\Anaconda2\\lib\\site-packages\\matplotlib\\axes\\_base.pyc\u001b[0m in \u001b[0;36madd_line\u001b[0;34m(self, line)\u001b[0m\n\u001b[1;32m   1701\u001b[0m             \u001b[0mline\u001b[0m\u001b[1;33m.\u001b[0m\u001b[0mset_clip_path\u001b[0m\u001b[1;33m(\u001b[0m\u001b[0mself\u001b[0m\u001b[1;33m.\u001b[0m\u001b[0mpatch\u001b[0m\u001b[1;33m)\u001b[0m\u001b[1;33m\u001b[0m\u001b[0m\n\u001b[1;32m   1702\u001b[0m \u001b[1;33m\u001b[0m\u001b[0m\n\u001b[0;32m-> 1703\u001b[0;31m         \u001b[0mself\u001b[0m\u001b[1;33m.\u001b[0m\u001b[0m_update_line_limits\u001b[0m\u001b[1;33m(\u001b[0m\u001b[0mline\u001b[0m\u001b[1;33m)\u001b[0m\u001b[1;33m\u001b[0m\u001b[0m\n\u001b[0m\u001b[1;32m   1704\u001b[0m         \u001b[1;32mif\u001b[0m \u001b[1;32mnot\u001b[0m \u001b[0mline\u001b[0m\u001b[1;33m.\u001b[0m\u001b[0mget_label\u001b[0m\u001b[1;33m(\u001b[0m\u001b[1;33m)\u001b[0m\u001b[1;33m:\u001b[0m\u001b[1;33m\u001b[0m\u001b[0m\n\u001b[1;32m   1705\u001b[0m             \u001b[0mline\u001b[0m\u001b[1;33m.\u001b[0m\u001b[0mset_label\u001b[0m\u001b[1;33m(\u001b[0m\u001b[1;34m'_line%d'\u001b[0m \u001b[1;33m%\u001b[0m \u001b[0mlen\u001b[0m\u001b[1;33m(\u001b[0m\u001b[0mself\u001b[0m\u001b[1;33m.\u001b[0m\u001b[0mlines\u001b[0m\u001b[1;33m)\u001b[0m\u001b[1;33m)\u001b[0m\u001b[1;33m\u001b[0m\u001b[0m\n",
      "\u001b[0;32mC:\\Users\\ajain\\Anaconda2\\lib\\site-packages\\matplotlib\\axes\\_base.pyc\u001b[0m in \u001b[0;36m_update_line_limits\u001b[0;34m(self, line)\u001b[0m\n\u001b[1;32m   1723\u001b[0m         \u001b[0mFigures\u001b[0m \u001b[0mout\u001b[0m \u001b[0mthe\u001b[0m \u001b[0mdata\u001b[0m \u001b[0mlimit\u001b[0m \u001b[0mof\u001b[0m \u001b[0mthe\u001b[0m \u001b[0mgiven\u001b[0m \u001b[0mline\u001b[0m\u001b[1;33m,\u001b[0m \u001b[0mupdating\u001b[0m \u001b[0mself\u001b[0m\u001b[1;33m.\u001b[0m\u001b[0mdataLim\u001b[0m\u001b[1;33m.\u001b[0m\u001b[1;33m\u001b[0m\u001b[0m\n\u001b[1;32m   1724\u001b[0m         \"\"\"\n\u001b[0;32m-> 1725\u001b[0;31m         \u001b[0mpath\u001b[0m \u001b[1;33m=\u001b[0m \u001b[0mline\u001b[0m\u001b[1;33m.\u001b[0m\u001b[0mget_path\u001b[0m\u001b[1;33m(\u001b[0m\u001b[1;33m)\u001b[0m\u001b[1;33m\u001b[0m\u001b[0m\n\u001b[0m\u001b[1;32m   1726\u001b[0m         \u001b[1;32mif\u001b[0m \u001b[0mpath\u001b[0m\u001b[1;33m.\u001b[0m\u001b[0mvertices\u001b[0m\u001b[1;33m.\u001b[0m\u001b[0msize\u001b[0m \u001b[1;33m==\u001b[0m \u001b[1;36m0\u001b[0m\u001b[1;33m:\u001b[0m\u001b[1;33m\u001b[0m\u001b[0m\n\u001b[1;32m   1727\u001b[0m             \u001b[1;32mreturn\u001b[0m\u001b[1;33m\u001b[0m\u001b[0m\n",
      "\u001b[0;32mC:\\Users\\ajain\\Anaconda2\\lib\\site-packages\\matplotlib\\lines.pyc\u001b[0m in \u001b[0;36mget_path\u001b[0;34m(self)\u001b[0m\n\u001b[1;32m    936\u001b[0m         \"\"\"\n\u001b[1;32m    937\u001b[0m         \u001b[1;32mif\u001b[0m \u001b[0mself\u001b[0m\u001b[1;33m.\u001b[0m\u001b[0m_invalidy\u001b[0m \u001b[1;32mor\u001b[0m \u001b[0mself\u001b[0m\u001b[1;33m.\u001b[0m\u001b[0m_invalidx\u001b[0m\u001b[1;33m:\u001b[0m\u001b[1;33m\u001b[0m\u001b[0m\n\u001b[0;32m--> 938\u001b[0;31m             \u001b[0mself\u001b[0m\u001b[1;33m.\u001b[0m\u001b[0mrecache\u001b[0m\u001b[1;33m(\u001b[0m\u001b[1;33m)\u001b[0m\u001b[1;33m\u001b[0m\u001b[0m\n\u001b[0m\u001b[1;32m    939\u001b[0m         \u001b[1;32mreturn\u001b[0m \u001b[0mself\u001b[0m\u001b[1;33m.\u001b[0m\u001b[0m_path\u001b[0m\u001b[1;33m\u001b[0m\u001b[0m\n\u001b[1;32m    940\u001b[0m \u001b[1;33m\u001b[0m\u001b[0m\n",
      "\u001b[0;32mC:\\Users\\ajain\\Anaconda2\\lib\\site-packages\\matplotlib\\lines.pyc\u001b[0m in \u001b[0;36mrecache\u001b[0;34m(self, always)\u001b[0m\n\u001b[1;32m    623\u001b[0m                 \u001b[0mx\u001b[0m \u001b[1;33m=\u001b[0m \u001b[0mma\u001b[0m\u001b[1;33m.\u001b[0m\u001b[0masarray\u001b[0m\u001b[1;33m(\u001b[0m\u001b[0mxconv\u001b[0m\u001b[1;33m,\u001b[0m \u001b[0mnp\u001b[0m\u001b[1;33m.\u001b[0m\u001b[0mfloat_\u001b[0m\u001b[1;33m)\u001b[0m\u001b[1;33m.\u001b[0m\u001b[0mfilled\u001b[0m\u001b[1;33m(\u001b[0m\u001b[0mnp\u001b[0m\u001b[1;33m.\u001b[0m\u001b[0mnan\u001b[0m\u001b[1;33m)\u001b[0m\u001b[1;33m\u001b[0m\u001b[0m\n\u001b[1;32m    624\u001b[0m             \u001b[1;32melse\u001b[0m\u001b[1;33m:\u001b[0m\u001b[1;33m\u001b[0m\u001b[0m\n\u001b[0;32m--> 625\u001b[0;31m                 \u001b[0mx\u001b[0m \u001b[1;33m=\u001b[0m \u001b[0mnp\u001b[0m\u001b[1;33m.\u001b[0m\u001b[0masarray\u001b[0m\u001b[1;33m(\u001b[0m\u001b[0mxconv\u001b[0m\u001b[1;33m,\u001b[0m \u001b[0mnp\u001b[0m\u001b[1;33m.\u001b[0m\u001b[0mfloat_\u001b[0m\u001b[1;33m)\u001b[0m\u001b[1;33m\u001b[0m\u001b[0m\n\u001b[0m\u001b[1;32m    626\u001b[0m             \u001b[0mx\u001b[0m \u001b[1;33m=\u001b[0m \u001b[0mx\u001b[0m\u001b[1;33m.\u001b[0m\u001b[0mravel\u001b[0m\u001b[1;33m(\u001b[0m\u001b[1;33m)\u001b[0m\u001b[1;33m\u001b[0m\u001b[0m\n\u001b[1;32m    627\u001b[0m         \u001b[1;32melse\u001b[0m\u001b[1;33m:\u001b[0m\u001b[1;33m\u001b[0m\u001b[0m\n",
      "\u001b[0;32mC:\\Users\\ajain\\Anaconda2\\lib\\site-packages\\numpy\\core\\numeric.pyc\u001b[0m in \u001b[0;36masarray\u001b[0;34m(a, dtype, order)\u001b[0m\n\u001b[1;32m    480\u001b[0m \u001b[1;33m\u001b[0m\u001b[0m\n\u001b[1;32m    481\u001b[0m     \"\"\"\n\u001b[0;32m--> 482\u001b[0;31m     \u001b[1;32mreturn\u001b[0m \u001b[0marray\u001b[0m\u001b[1;33m(\u001b[0m\u001b[0ma\u001b[0m\u001b[1;33m,\u001b[0m \u001b[0mdtype\u001b[0m\u001b[1;33m,\u001b[0m \u001b[0mcopy\u001b[0m\u001b[1;33m=\u001b[0m\u001b[0mFalse\u001b[0m\u001b[1;33m,\u001b[0m \u001b[0morder\u001b[0m\u001b[1;33m=\u001b[0m\u001b[0morder\u001b[0m\u001b[1;33m)\u001b[0m\u001b[1;33m\u001b[0m\u001b[0m\n\u001b[0m\u001b[1;32m    483\u001b[0m \u001b[1;33m\u001b[0m\u001b[0m\n\u001b[1;32m    484\u001b[0m \u001b[1;32mdef\u001b[0m \u001b[0masanyarray\u001b[0m\u001b[1;33m(\u001b[0m\u001b[0ma\u001b[0m\u001b[1;33m,\u001b[0m \u001b[0mdtype\u001b[0m\u001b[1;33m=\u001b[0m\u001b[0mNone\u001b[0m\u001b[1;33m,\u001b[0m \u001b[0morder\u001b[0m\u001b[1;33m=\u001b[0m\u001b[0mNone\u001b[0m\u001b[1;33m)\u001b[0m\u001b[1;33m:\u001b[0m\u001b[1;33m\u001b[0m\u001b[0m\n",
      "\u001b[0;31mTypeError\u001b[0m: float() argument must be a string or a number"
     ]
    },
    {
     "data": {
      "image/png": "[encoded data removed]",
      "text/plain": [
       "<matplotlib.figure.Figure at 0xe837fd0>"
      ]
     },
     "metadata": {},
     "output_type": "display_data"
    }
   ],
   "source": [
    "i = 'Price'\n",
    " \n",
    "# plt.figure(figsize=(10,8))\n",
    "# plt.subplot(211)\n",
    "# plt.xlim(df[i].min(), df[i].max()*1.1)\n",
    "# plt.axvline(x=min)\n",
    "# plt.axvline(x=max)\n",
    " \n",
    "ax = df[i].plot(kind='kde')\n",
    " \n",
    "plt.subplot(212)\n",
    "plt.xlim(df[i].min(), df[i].max()*1.1)\n",
    "sns.boxplot(x=df[i])\n",
    "plt.axvline(x=min)\n",
    "plt.axvline(x=max)"
   ]
  },
  {
   "cell_type": "code",
   "execution_count": 21,
   "metadata": {
    "collapsed": false
   },
   "outputs": [
    {
     "data": {
      "text/plain": [
       "<matplotlib.collections.PathCollection at 0xebc4a90>"
      ]
     },
     "execution_count": 21,
     "metadata": {},
     "output_type": "execute_result"
    },
    {
     "data": {
      "image/png": "[encoded data removed]",
      "text/plain": [
       "<matplotlib.figure.Figure at 0xeb53240>"
      ]
     },
     "metadata": {},
     "output_type": "display_data"
    }
   ],
   "source": [
    "fig, ax = plt.subplots(figsize=(10,6))\n",
    "plt.scatter(np.arange(len(df['Price'])), df['Price'])"
   ]
  },
  {
   "cell_type": "code",
   "execution_count": 22,
   "metadata": {
    "collapsed": true
   },
   "outputs": [],
   "source": [
    "px = [x for x in df['Price']]\n",
    "ff = pd.DataFrame(px, columns=['Price_of_flight']).reset_index()"
   ]
  },
  {
   "cell_type": "code",
   "execution_count": 32,
   "metadata": {
    "collapsed": false
   },
   "outputs": [
    {
     "name": "stdout",
     "output_type": "stream",
     "text": [
      "Cluster labels: [-1  0  1  2  3  4]\n",
      "Cluster Means: [array([ 0.11299435,  0.42807018]), array([ 0.25988701,  0.16666667]), array([ 0.36723164,  0.0877193 ]), array([ 0.85875706,  0.08245614]), array([ 0.94915254,  0.18421053])]\n",
      "290.0\n",
      "290.0\n",
      "236.0\n",
      "245.0\n",
      "249.0\n",
      "176.0\n",
      "160.0\n",
      "172.0\n",
      "204.0\n",
      "197.0\n",
      "129.0\n",
      "138.0\n",
      "245.0\n",
      "201.0\n",
      "151.0\n",
      "155.0\n",
      "156.0\n",
      "201.0\n",
      "121.0\n",
      "155.0\n",
      "136.0\n",
      "136.0\n",
      "155.0\n",
      "201.0\n",
      "162.0\n",
      "121.0\n",
      "136.0\n",
      "121.0\n",
      "155.0\n",
      "189.0\n",
      "300.0\n",
      "311.0\n",
      "199.0\n",
      "175.0\n",
      "189.0\n",
      "160.0\n",
      "160.0\n",
      "170.0\n",
      "170.0\n",
      "121.0\n",
      "156.0\n",
      "136.0\n",
      "171.0\n"
     ]
    },
    {
     "data": {
      "image/png": "[encoded data removed]",
      "text/plain": [
       "<matplotlib.figure.Figure at 0xd5ce400>"
      ]
     },
     "metadata": {},
     "output_type": "display_data"
    }
   ],
   "source": [
    "X = MinMaxScaler().fit_transform(ff) \n",
    "db = DBSCAN(eps = 0.05, min_samples = 3).fit(X)\n",
    "\n",
    "labels = db.labels_\n",
    "clusters = len(set(labels))\n",
    "unique_labels = set(labels)\n",
    "colors = plt.cm.Spectral(np.linspace(0, 1, len(unique_labels)))\n",
    "\n",
    "plt.subplots(figsize = (12,8))\n",
    "\n",
    "for k,c in zip(unique_labels, colors):\n",
    "    class_member_mask = (labels == k)\n",
    "    xy = X[class_member_mask]\n",
    "    plt.plot(xy[:, 0], xy[:, 1], 'o', markerfacecolor = c, markeredgecolor = 'k',markersize = 14)\n",
    "    \n",
    "    \n",
    "plt.title('Total Clusters: {}'.format(clusters), fontsize = 14, y = 1.01) \n",
    "\n",
    "def calculate_cluster_means(X, labels):\n",
    "    lbls = np.unique(labels)\n",
    "    print \"Cluster labels: {}\".format(np.unique(lbls))\n",
    "\n",
    "    cluster_means = [np.mean(X[labels==num, :], axis=0) for num in range(lbls[-1] + 1)]\n",
    "    print \"Cluster Means: {}\".format(cluster_means)\n",
    "    return cluster_means\n",
    "\n",
    "# Getting outliers and their indexes in dataframe\n",
    "out_ind = []\n",
    "for ind,y in enumerate(X):\n",
    "    if labels[ind]== -1:\n",
    "        out_ind.append([ind,y])\n",
    "# out_ind\n",
    "\n",
    "# Cluster means\n",
    "cluster_means = calculate_cluster_means(X, labels)\n",
    "\n",
    "# Outliers\n",
    "class_member_mask = (labels == -1) \n",
    "outs = X[class_member_mask] \n",
    "# outs\n",
    "\n",
    "\n",
    "# Finding closest cluster for each outlier\n",
    "chosen_list = []\n",
    "\n",
    "for out_index,out in enumerate(outs):    \n",
    "    min_list = []\n",
    "    for index,cm in enumerate(cluster_means):         \n",
    "        min_list.append(euclidean(cm, out))\n",
    "\n",
    "    for inx,abc in enumerate(min_list):\n",
    "        if abc == sorted(min_list)[0]:\n",
    "            chosen_list.append([out_index,inx])\n",
    "\n",
    "\n",
    "for i,abc in enumerate(out_ind):\n",
    "    print df['Price'][abc[0]]\n",
    "# for chosen in chosen_list:\n",
    "#     outlier_cods = "
   ]
  },
  {
   "cell_type": "code",
   "execution_count": 33,
   "metadata": {
    "collapsed": false
   },
   "outputs": [
    {
     "name": "stdout",
     "output_type": "stream",
     "text": [
      "Cluster labels: [-1  0  1  2  3  4]\n",
      "Cluster Means: [array([ 0.11299435,  0.42807018]), array([ 0.25988701,  0.16666667]), array([ 0.36723164,  0.0877193 ]), array([ 0.85875706,  0.08245614]), array([ 0.94915254,  0.18421053])]\n",
      "[[5, array([ 0.08474576,  0.44210526])], [7, array([ 0.11864407,  0.44210526])], [8, array([ 0.13559322,  0.4       ])]]\n",
      "[205.0, 205.0, 197.0]\n",
      "202.333333333\n",
      "42.6666666667\n"
     ]
    },
    {
     "data": {
      "text/plain": [
       "3.7712361663282534"
      ]
     },
     "execution_count": 33,
     "metadata": {},
     "output_type": "execute_result"
    }
   ],
   "source": [
    "#Cluster one \n",
    "def calculate_cluster_means(X, labels):\n",
    "    lbls = np.unique(labels)\n",
    "    print \"Cluster labels: {}\".format(np.unique(lbls))\n",
    "\n",
    "    cluster_means = [np.mean(X[labels==num, :], axis=0) for num in range(lbls[-1] + 1)]\n",
    "    print \"Cluster Means: {}\".format(cluster_means)\n",
    "    return cluster_means\n",
    "\n",
    "# Cluster means\n",
    "cluster_means = calculate_cluster_means(X, labels)\n",
    "\n",
    "# Getting cluster 1 and their indexes in dataframe\n",
    "c1_ind = []\n",
    "for ind,y in enumerate(X):\n",
    "    if labels[ind]== 0:\n",
    "        c1_ind.append([ind,y])\n",
    "# c1_ind\n",
    "\n",
    "# Cluster 1\n",
    "class_member_mask_c1 = (labels == 0) \n",
    "c1 = X[class_member_mask_c1] \n",
    "\n",
    "\n",
    "print c1_ind\n",
    "\n",
    "cluster_one_prices=[]\n",
    "\n",
    "for i,abc in enumerate(c1_ind):\n",
    "    cluster_one_prices.append(df['Price'][abc[0]])\n",
    "    \n",
    "print cluster_one_prices\n",
    "# cluster_one_prices_mean =  reduce(lambda x, y: x + y, cluster_one_prices) / len(cluster_one_prices)\n",
    "# print cluster_one_prices_mean\n",
    "\n",
    "def mean(data):\n",
    "    \"\"\"Return the sample arithmetic mean of data.\"\"\"\n",
    "    n = len(data)\n",
    "    if n < 1:\n",
    "        raise ValueError('mean requires at least one data point')\n",
    "    return sum(data)/n # in Python 2 use sum(data)/float(n)\n",
    "\n",
    "def _ss(data):\n",
    "    \"\"\"Return sum of square deviations of sequence data.\"\"\"\n",
    "    c = mean(data)\n",
    "    ss = sum((x-c)**2 for x in data)\n",
    "    return ss\n",
    "\n",
    "def pstdev(data):\n",
    "    \"\"\"Calculates the population standard deviation.\"\"\"\n",
    "    n = len(data)\n",
    "    if n < 2:\n",
    "        raise ValueError('variance requires at least two data points')\n",
    "    ss = _ss(data)\n",
    "    pvar = ss/n # the population variance\n",
    "    return pvar**0.5\n",
    "print mean(cluster_one_prices)\n",
    "print _ss(cluster_one_prices)\n",
    "pstdev(cluster_one_prices)"
   ]
  },
  {
   "cell_type": "code",
   "execution_count": 34,
   "metadata": {
    "collapsed": false
   },
   "outputs": [
    {
     "name": "stdout",
     "output_type": "stream",
     "text": [
      "[[14, array([ 0.23728814,  0.15789474])], [15, array([ 0.25423729,  0.15789474])], [17, array([ 0.28813559,  0.18421053])]]\n",
      "[151.0, 151.0, 156.0]\n",
      "152.666666667\n",
      "16.6666666667\n"
     ]
    },
    {
     "data": {
      "text/plain": [
       "2.3570226039551585"
      ]
     },
     "execution_count": 34,
     "metadata": {},
     "output_type": "execute_result"
    }
   ],
   "source": [
    "# Getting cluster 2 and their indexes in dataframe\n",
    "c2_ind = []\n",
    "for ind,y in enumerate(X):\n",
    "    if labels[ind]== 1:\n",
    "        c2_ind.append([ind,y])\n",
    "# c2_ind\n",
    "\n",
    "# Cluster 2\n",
    "class_member_mask_c2 = (labels == 1) \n",
    "c2 = X[class_member_mask_c2] \n",
    "\n",
    "\n",
    "print c2_ind\n",
    "\n",
    "cluster_two_prices=[]\n",
    "\n",
    "for i,abc in enumerate(c2_ind):\n",
    "    cluster_two_prices.append(df['Price'][abc[0]])\n",
    "    \n",
    "print cluster_two_prices\n",
    "# cluster_two_prices_mean =  reduce(lambda x, y: x + y, cluster_one_prices) / len(cluster_one_prices)\n",
    "# print cluster_two_prices_mean\n",
    "\n",
    "def mean(data):\n",
    "    \"\"\"Return the sample arithmetic mean of data.\"\"\"\n",
    "    n = len(data)\n",
    "    if n < 1:\n",
    "        raise ValueError('mean requires at least one data point')\n",
    "    return sum(data)/n # in Python 2 use sum(data)/float(n)\n",
    "\n",
    "def _ss(data):\n",
    "    \"\"\"Return sum of square deviations of sequence data.\"\"\"\n",
    "    c = mean(data)\n",
    "    ss = sum((x-c)**2 for x in data)\n",
    "    return ss\n",
    "\n",
    "def pstdev(data):\n",
    "    \"\"\"Calculates the population standard deviation.\"\"\"\n",
    "    n = len(data)\n",
    "    if n < 2:\n",
    "        raise ValueError('variance requires at least two data points')\n",
    "    ss = _ss(data)\n",
    "    pvar = ss/n # the population variance\n",
    "    return pvar**0.5\n",
    "\n",
    "print mean(cluster_two_prices)\n",
    "print _ss(cluster_two_prices)\n",
    "pstdev(cluster_two_prices)"
   ]
  },
  {
   "cell_type": "code",
   "execution_count": 35,
   "metadata": {
    "collapsed": false
   },
   "outputs": [
    {
     "name": "stdout",
     "output_type": "stream",
     "text": [
      "[[20, array([ 0.33898305,  0.07894737])], [22, array([ 0.37288136,  0.09473684])], [23, array([ 0.38983051,  0.08947368])]]\n",
      "[136.0, 139.0, 138.0]\n",
      "137.666666667\n",
      "4.66666666667\n"
     ]
    },
    {
     "data": {
      "text/plain": [
       "1.2472191289246473"
      ]
     },
     "execution_count": 35,
     "metadata": {},
     "output_type": "execute_result"
    }
   ],
   "source": [
    "# Getting cluster 3 and their indexes in dataframe\n",
    "c3_ind = []\n",
    "for ind,y in enumerate(X):\n",
    "    if labels[ind]== 2:\n",
    "        c3_ind.append([ind,y])\n",
    "# c3_ind\n",
    "\n",
    "# Cluster 3\n",
    "class_member_mask_c3 = (labels == 2) \n",
    "c3 = X[class_member_mask_c3] \n",
    "\n",
    "\n",
    "print c3_ind\n",
    "\n",
    "cluster_three_prices=[]\n",
    "\n",
    "for i,abc in enumerate(c3_ind):\n",
    "    cluster_three_prices.append(df['Price'][abc[0]])\n",
    "    \n",
    "print cluster_three_prices\n",
    "# cluster_two_prices_mean =  reduce(lambda x, y: x + y, cluster_one_prices) / len(cluster_one_prices)\n",
    "# print cluster_two_prices_mean\n",
    "\n",
    "def mean(data):\n",
    "    \"\"\"Return the sample arithmetic mean of data.\"\"\"\n",
    "    n = len(data)\n",
    "    if n < 1:\n",
    "        raise ValueError('mean requires at least one data point')\n",
    "    return sum(data)/n # in Python 2 use sum(data)/float(n)\n",
    "\n",
    "def _ss(data):\n",
    "    \"\"\"Return sum of square deviations of sequence data.\"\"\"\n",
    "    c = mean(data)\n",
    "    ss = sum((x-c)**2 for x in data)\n",
    "    return ss\n",
    "\n",
    "def pstdev(data):\n",
    "    \"\"\"Calculates the population standard deviation.\"\"\"\n",
    "    n = len(data)\n",
    "    if n < 2:\n",
    "        raise ValueError('variance requires at least two data points')\n",
    "    ss = _ss(data)\n",
    "    pvar = ss/n # the population variance\n",
    "    return pvar**0.5\n",
    "\n",
    "print mean(cluster_three_prices)\n",
    "print _ss(cluster_three_prices)\n",
    "pstdev(cluster_three_prices)"
   ]
  },
  {
   "cell_type": "code",
   "execution_count": 36,
   "metadata": {
    "collapsed": false
   },
   "outputs": [
    {
     "name": "stdout",
     "output_type": "stream",
     "text": [
      "[[49, array([ 0.83050847,  0.07894737])], [51, array([ 0.86440678,  0.08421053])], [52, array([ 0.88135593,  0.08421053])]]\n",
      "[136.0, 137.0, 137.0]\n",
      "136.666666667\n",
      "0.666666666667\n"
     ]
    },
    {
     "data": {
      "text/plain": [
       "0.47140452079103168"
      ]
     },
     "execution_count": 36,
     "metadata": {},
     "output_type": "execute_result"
    }
   ],
   "source": [
    "# Getting cluster 4 and their indexes in dataframe\n",
    "c4_ind = []\n",
    "for ind,y in enumerate(X):\n",
    "    if labels[ind]== 3:\n",
    "        c4_ind.append([ind,y])\n",
    "# c3_ind\n",
    "\n",
    "# Cluster 3\n",
    "class_member_mask_c4 = (labels == 4) \n",
    "c4 = X[class_member_mask_c4] \n",
    "\n",
    "\n",
    "print c4_ind\n",
    "\n",
    "cluster_four_prices=[]\n",
    "\n",
    "for i,abc in enumerate(c4_ind):\n",
    "    cluster_four_prices.append(df['Price'][abc[0]])\n",
    "    \n",
    "print cluster_four_prices\n",
    "# cluster_two_prices_mean =  reduce(lambda x, y: x + y, cluster_one_prices) / len(cluster_one_prices)\n",
    "# print cluster_two_prices_mean\n",
    "\n",
    "def mean(data):\n",
    "    \"\"\"Return the sample arithmetic mean of data.\"\"\"\n",
    "    n = len(data)\n",
    "    if n < 1:\n",
    "        raise ValueError('mean requires at least one data point')\n",
    "    return sum(data)/n # in Python 2 use sum(data)/float(n)\n",
    "\n",
    "def _ss(data):\n",
    "    \"\"\"Return sum of square deviations of sequence data.\"\"\"\n",
    "    c = mean(data)\n",
    "    ss = sum((x-c)**2 for x in data)\n",
    "    return ss\n",
    "\n",
    "def pstdev(data):\n",
    "    \"\"\"Calculates the population standard deviation.\"\"\"\n",
    "    n = len(data)\n",
    "    if n < 2:\n",
    "        raise ValueError('variance requires at least two data points')\n",
    "    ss = _ss(data)\n",
    "    pvar = ss/n # the population variance\n",
    "    return pvar**0.5\n",
    "\n",
    "print mean(cluster_four_prices)\n",
    "print _ss(cluster_four_prices)\n",
    "pstdev(cluster_four_prices)"
   ]
  },
  {
   "cell_type": "code",
   "execution_count": 37,
   "metadata": {
    "collapsed": false
   },
   "outputs": [
    {
     "name": "stdout",
     "output_type": "stream",
     "text": [
      "[[53, array([ 0.89830508,  0.18421053])], [54, array([ 0.91525424,  0.18421053])], [56, array([ 0.94915254,  0.18421053])], [58, array([ 0.98305085,  0.18421053])], [59, array([ 1.        ,  0.18421053])]]\n",
      "[156.0, 156.0, 156.0, 156.0, 156.0]\n",
      "156.0\n",
      "0.0\n"
     ]
    },
    {
     "data": {
      "text/plain": [
       "0.0"
      ]
     },
     "execution_count": 37,
     "metadata": {},
     "output_type": "execute_result"
    }
   ],
   "source": [
    "# Getting cluster 5 and their indexes in dataframe\n",
    "c5_ind = []\n",
    "for ind,y in enumerate(X):\n",
    "    if labels[ind]== 4:\n",
    "        c5_ind.append([ind,y])\n",
    "# c5_ind\n",
    "\n",
    "# Cluster 5\n",
    "class_member_mask_c5 = (labels == 4) \n",
    "c5 = X[class_member_mask_c5] \n",
    "\n",
    "\n",
    "print c5_ind\n",
    "\n",
    "cluster_five_prices=[]\n",
    "\n",
    "for i,abc in enumerate(c5_ind):\n",
    "    cluster_five_prices.append(df['Price'][abc[0]])\n",
    "    \n",
    "print cluster_five_prices\n",
    "# cluster_two_prices_mean =  reduce(lambda x, y: x + y, cluster_one_prices) / len(cluster_one_prices)\n",
    "# print cluster_two_prices_mean\n",
    "\n",
    "def mean(data):\n",
    "    \"\"\"Return the sample arithmetic mean of data.\"\"\"\n",
    "    n = len(data)\n",
    "    if n < 1:\n",
    "        raise ValueError('mean requires at least one data point')\n",
    "    return sum(data)/n # in Python 2 use sum(data)/float(n)\n",
    "\n",
    "def _ss(data):\n",
    "    \"\"\"Return sum of square deviations of sequence data.\"\"\"\n",
    "    c = mean(data)\n",
    "    ss = sum((x-c)**2 for x in data)\n",
    "    return ss\n",
    "\n",
    "def pstdev(data):\n",
    "    \"\"\"Calculates the population standard deviation.\"\"\"\n",
    "    n = len(data)\n",
    "    if n < 2:\n",
    "        raise ValueError('variance requires at least two data points')\n",
    "    ss = _ss(data)\n",
    "    pvar = ss/n # the population variance\n",
    "    return pvar**0.5\n",
    "\n",
    "print mean(cluster_five_prices)\n",
    "print _ss(cluster_five_prices)\n",
    "pstdev(cluster_five_prices)"
   ]
  },
  {
   "cell_type": "code",
   "execution_count": null,
   "metadata": {
    "collapsed": true
   },
   "outputs": [],
   "source": []
  }
 ],
 "metadata": {
  "anaconda-cloud": {},
  "kernelspec": {
   "display_name": "Python [conda root]",
   "language": "python",
   "name": "conda-root-py"
  },
  "language_info": {
   "codemirror_mode": {
    "name": "ipython",
    "version": 2
   },
   "file_extension": ".py",
   "mimetype": "text/x-python",
   "name": "python",
   "nbconvert_exporter": "python",
   "pygments_lexer": "ipython2",
   "version": "2.7.12"
  }
 },
 "nbformat": 4,
 "nbformat_minor": 1
}
